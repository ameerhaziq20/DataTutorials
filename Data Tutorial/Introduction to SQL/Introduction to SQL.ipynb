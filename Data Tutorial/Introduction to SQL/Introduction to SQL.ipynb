{
 "cells": [
  {
   "cell_type": "markdown",
   "id": "403a7e10",
   "metadata": {},
   "source": [
    "## Selecting columns\n",
    "This chapter provides a brief introduction to working with relational databases. You'll learn about their structure, how to talk about them using database lingo, and how to begin an analysis using simple SQL commands to select and summarize columns from database tables."
   ]
  },
  {
   "cell_type": "markdown",
   "id": "ba7a250b",
   "metadata": {},
   "source": [
    "### Onboarding | Query Result\n",
    "Notice the query result tab in the bottom right corner of your screen. This is where the results of your SQL queries will be displayed.\n",
    "\n",
    "Run this query in the editor and check out the resulting table in the query result tab!\n",
    "\n",
    "SELECT name FROM people;\n",
    "\n",
    "Who is the second person listed in the query result?"
   ]
  },
  {
   "cell_type": "markdown",
   "id": "4f44b1c1",
   "metadata": {},
   "source": [
    "### Onboarding | Errors\n",
    "If you submit the code to the right, you'll see that you get two types of errors.\n",
    "\n",
    "SQL errors are shown below the editor. These are errors returned by the SQL engine. You should see:\n",
    "\n",
    "syntax error at or near \"'DataCamp <3 SQL'\" LINE 2: 'DataCamp <3 SQL' ^\n",
    "\n",
    "DataCamp errors are shown in the Instructions box. These will let you know in plain English where you went wrong in your code! You should see:\n",
    "\n",
    "You need to add SELECT at the start of line 2!\n",
    "\n",
    "Instructions:\n",
    "\n",
    "Submit the code to the right, check out the errors, then fix them!"
   ]
  },
  {
   "cell_type": "code",
   "execution_count": null,
   "id": "c8f46b2c",
   "metadata": {},
   "outputs": [],
   "source": [
    "-- Try running me!\n",
    "SELECT 'DataCamp <3 SQL'\n",
    "AS result;"
   ]
  },
  {
   "cell_type": "markdown",
   "id": "be258c66",
   "metadata": {},
   "source": [
    "### Onboarding | Multi-step Exercises\n",
    "The following multi-step exercise allows you to practice a new concept through repetition. Check it out!\n",
    "\n",
    "Instruction:\n",
    "\n",
    "* Submit the query in the editor! Don't worry, you'll learn how it works soon.\n",
    "* Now change 'SQL' to 'SQL is' and click Submit!\n",
    "* Finally, change 'SQL is' to 'SQL is cool' and click Submit!"
   ]
  },
  {
   "cell_type": "code",
   "execution_count": null,
   "id": "8ff9f3b2",
   "metadata": {},
   "outputs": [],
   "source": [
    "SELECT 'SQL'\n",
    "AS result;"
   ]
  },
  {
   "cell_type": "code",
   "execution_count": null,
   "id": "b169154f",
   "metadata": {},
   "outputs": [],
   "source": [
    "SELECT 'SQL is'\n",
    "AS result;"
   ]
  },
  {
   "cell_type": "code",
   "execution_count": null,
   "id": "6a15ece4",
   "metadata": {},
   "outputs": [],
   "source": [
    "SELECT 'SQL is cool'\n",
    "AS result;"
   ]
  },
  {
   "cell_type": "markdown",
   "id": "81dbe492",
   "metadata": {},
   "source": [
    "### SELECTing single columns\n",
    "While SQL can be used to create and modify databases, the focus of this course will be querying databases. A query is a request for data from a database table (or combination of tables). Querying is an essential skill for a data scientist, since the data you need for your analyses will often live in databases.\n",
    "\n",
    "In SQL, you can select data from a table using a SELECT statement. For example, the following query selects the name column from the people table:\n",
    "\n",
    "SELECT name\n",
    "\n",
    "FROM people;\n",
    "\n",
    "In this query, SELECT and FROM are called keywords. In SQL, keywords are not case-sensitive, which means you can write the same query as:\n",
    "\n",
    "select name\n",
    "\n",
    "from people;\n",
    "\n",
    "That said, it's good practice to make SQL keywords uppercase to distinguish them from other parts of your query, like column and table names.\n",
    "\n",
    "It's also good practice (but not necessary for the exercises in this course) to include a semicolon at the end of your query. This tells SQL where the end of your query is!\n",
    "\n",
    "Remember, you can see the results of executing your query in the query tab!\n",
    "\n",
    "Instructions:\n",
    "\n",
    "* Select the title column from the films table.\n",
    "* Select the release_year column from the films table.\n",
    "* Select the name of each person in the people table."
   ]
  },
  {
   "cell_type": "code",
   "execution_count": null,
   "id": "3b4e0e16",
   "metadata": {},
   "outputs": [],
   "source": [
    "SELECT title from films;"
   ]
  },
  {
   "cell_type": "code",
   "execution_count": null,
   "id": "2fe40ae7",
   "metadata": {},
   "outputs": [],
   "source": [
    "SELECT release_year from films;"
   ]
  },
  {
   "cell_type": "code",
   "execution_count": null,
   "id": "9453bf9b",
   "metadata": {},
   "outputs": [],
   "source": [
    "SELECT name from people;"
   ]
  },
  {
   "cell_type": "markdown",
   "id": "5c97a8da",
   "metadata": {},
   "source": [
    "### SELECTing multiple columns\n",
    "Well done! Now you know how to select single columns.\n",
    "\n",
    "In the real world, you will often want to select multiple columns. Luckily, SQL makes this really easy. To select multiple columns from a table, simply separate the column names with commas!\n",
    "\n",
    "For example, this query selects two columns, name and birthdate, from the people table:\n",
    "\n",
    "SELECT name, birthdate\n",
    "\n",
    "FROM people;\n",
    "\n",
    "Sometimes, you may want to select all columns from a table. Typing out every column name would be a pain, so there's a handy shortcut:\n",
    "\n",
    "SELECT *\n",
    "\n",
    "FROM people;\n",
    "\n",
    "If you only want to return a certain number of results, you can use the LIMIT keyword to limit the number of rows returned:\n",
    "\n",
    "SELECT *\n",
    "\n",
    "FROM people\n",
    "\n",
    "LIMIT 10;\n",
    "\n",
    "Before getting started with the instructions below, check out the column names in the films table!\n",
    "\n",
    "Instructions:\n",
    "\n",
    "* Get the title of every film from the films table.\n",
    "* Get the title and release year for every film.\n",
    "* Get the title, release year and country for every film.\n",
    "* Get all columns from the films table."
   ]
  },
  {
   "cell_type": "code",
   "execution_count": null,
   "id": "aa9c4354",
   "metadata": {},
   "outputs": [],
   "source": [
    "SELECT title FROM films;"
   ]
  },
  {
   "cell_type": "code",
   "execution_count": null,
   "id": "3daf53be",
   "metadata": {},
   "outputs": [],
   "source": [
    "SELECT title,release_year FROM films;"
   ]
  },
  {
   "cell_type": "code",
   "execution_count": null,
   "id": "ad06977c",
   "metadata": {},
   "outputs": [],
   "source": [
    "SELECT title, release_year,country\n",
    "FROM films;"
   ]
  },
  {
   "cell_type": "code",
   "execution_count": null,
   "id": "0e369876",
   "metadata": {},
   "outputs": [],
   "source": [
    "SELECT *\n",
    "FROM films;"
   ]
  },
  {
   "cell_type": "markdown",
   "id": "faa54fe1",
   "metadata": {},
   "source": [
    "### SELECT DISTINCT\n",
    "Often your results will include many duplicate values. If you want to select all the unique values from a column, you can use the DISTINCT keyword.\n",
    "\n",
    "This might be useful if, for example, you're interested in knowing which languages are represented in the films table:\n",
    "\n",
    "SELECT DISTINCT language\n",
    "\n",
    "FROM films;\n",
    "\n",
    "Remember, you can check out the data in the tables by clicking on the table nam\n",
    "\n",
    "Instructions:\n",
    "\n",
    "* Get all the unique countries represented in the films table.\n",
    "* Get all the different film certifications from the films table.\n",
    "* Get the different types of film roles from the roles table.\n",
    "\n"
   ]
  },
  {
   "cell_type": "code",
   "execution_count": null,
   "id": "efbf2500",
   "metadata": {},
   "outputs": [],
   "source": [
    "SELECT DISTINCT country \n",
    "FROM films;"
   ]
  },
  {
   "cell_type": "code",
   "execution_count": null,
   "id": "7346c637",
   "metadata": {},
   "outputs": [],
   "source": [
    "SELECT DISTINCT certification \n",
    "FROM films;"
   ]
  },
  {
   "cell_type": "code",
   "execution_count": null,
   "id": "9966dd89",
   "metadata": {},
   "outputs": [],
   "source": [
    "SELECT DISTINCT role\n",
    "FROM roles;"
   ]
  },
  {
   "cell_type": "markdown",
   "id": "9f45f300",
   "metadata": {},
   "source": [
    "### Learning to COUNT\n",
    "What if you want to count the number of employees in your employees table? The COUNT() function lets you do this by returning the number of rows in one or more columns.\n",
    "\n",
    "For example, this code gives the number of rows in the people table:\n",
    "\n",
    "SELECT COUNT(*)\n",
    "\n",
    "FROM people;\n",
    "\n",
    "Instructions:\n",
    "\n",
    "How many records are contained in the reviews table?"
   ]
  },
  {
   "cell_type": "code",
   "execution_count": null,
   "id": "fcce742b",
   "metadata": {},
   "outputs": [],
   "source": [
    "SELECT COUNT(*)\n",
    "FROM reviews;"
   ]
  },
  {
   "cell_type": "markdown",
   "id": "af0a8cf3",
   "metadata": {},
   "source": [
    "### Practice with COUNT\n",
    "As you've seen, COUNT(*) tells you how many rows are in a table. However, if you want to count the number of non-missing values in a particular column, you can call COUNT() on just that column.\n",
    "\n",
    "For example, to count the number of birth dates present in the people table:\n",
    "\n",
    "SELECT COUNT(birthdate)\n",
    "\n",
    "FROM people;\n",
    "\n",
    "It's also common to combine COUNT() with DISTINCT to count the number of distinct values in a column.\n",
    "\n",
    "For example, this query counts the number of distinct birth dates contained in the people table:\n",
    "\n",
    "SELECT COUNT(DISTINCT birthdate)\n",
    "\n",
    "FROM people;\n",
    "\n",
    "Let's get some practice with COUNT()!\n",
    "\n",
    "Count the number of rows in the people table.\n",
    "\n",
    "Instructions:\n",
    "\n",
    "* Count the number of rows in the people table.\n",
    "* Count the number of (non-missing) birth dates in the people table.\n",
    "* Count the number of unique birth dates in the people table.\n",
    "* Count the number of unique languages in the films table.\n",
    "* Count the number of unique countries in the films table."
   ]
  },
  {
   "cell_type": "code",
   "execution_count": null,
   "id": "5b80fb9f",
   "metadata": {},
   "outputs": [],
   "source": [
    "SELECT COUNT(DISTINCT id)\n",
    "FROM people;"
   ]
  },
  {
   "cell_type": "code",
   "execution_count": null,
   "id": "da77e175",
   "metadata": {},
   "outputs": [],
   "source": [
    "SELECT COUNT(birthdate)\n",
    "FROM people;"
   ]
  },
  {
   "cell_type": "code",
   "execution_count": null,
   "id": "e642faf4",
   "metadata": {},
   "outputs": [],
   "source": [
    "SELECT COUNT(DISTINCT birthdate)\n",
    "FROM people;"
   ]
  },
  {
   "cell_type": "code",
   "execution_count": null,
   "id": "05d3282b",
   "metadata": {},
   "outputs": [],
   "source": [
    "SELECT COUNT(DISTINCT language)\n",
    "FROM films;"
   ]
  },
  {
   "cell_type": "code",
   "execution_count": null,
   "id": "3ee30789",
   "metadata": {},
   "outputs": [],
   "source": [
    "SELECT COUNT(DISTINCT country)\n",
    "FROM films;"
   ]
  },
  {
   "cell_type": "markdown",
   "id": "e5de1b5e",
   "metadata": {},
   "source": [
    "## Filtering rows"
   ]
  },
  {
   "cell_type": "markdown",
   "id": "0b7d9429",
   "metadata": {},
   "source": [
    "### Simple filtering of numeric values\n",
    "As you learned in the previous exercise, the WHERE clause can also be used to filter numeric records, such as years or ages.\n",
    "\n",
    "For example, the following query selects all details for films with a budget over ten thousand dollars:\n",
    "\n",
    "SELECT *\n",
    "\n",
    "FROM films\n",
    "\n",
    "WHERE budget > 10000;\n",
    "\n",
    "Now it's your turn to use the WHERE clause to filter numeric values!\n",
    "\n",
    "Instructions:\n",
    "\n",
    "* Get all details for all films released in 2016.\n",
    "* Get the number of films released before 2000.\n",
    "* Get the title and release year of films released after 2000."
   ]
  },
  {
   "cell_type": "code",
   "execution_count": null,
   "id": "be534eea",
   "metadata": {},
   "outputs": [],
   "source": [
    "SELECT *\n",
    "FROM films\n",
    "WHERE release_year = 2016;"
   ]
  },
  {
   "cell_type": "code",
   "execution_count": null,
   "id": "6c3570c2",
   "metadata": {},
   "outputs": [],
   "source": [
    "SELECT *\n",
    "FROM films\n",
    "WHERE release_year < 2000;"
   ]
  },
  {
   "cell_type": "code",
   "execution_count": null,
   "id": "4cd312ff",
   "metadata": {},
   "outputs": [],
   "source": [
    "SELECT COUNT(*)\n",
    "FROM films\n",
    "WHERE release_year < 2000;"
   ]
  },
  {
   "cell_type": "code",
   "execution_count": null,
   "id": "ca88717e",
   "metadata": {},
   "outputs": [],
   "source": [
    "SELECT title,release_year\n",
    "FROM films\n",
    "WHERE release_year > 2000;"
   ]
  },
  {
   "cell_type": "markdown",
   "id": "e3e6372c",
   "metadata": {},
   "source": [
    "### Simple filtering of text\n",
    "Remember, the WHERE clause can also be used to filter text results, such as names or countries.\n",
    "\n",
    "For example, this query gets the titles of all films which were filmed in China:\n",
    "\n",
    "SELECT title\n",
    "\n",
    "FROM films\n",
    "\n",
    "WHERE country = 'China';\n",
    "\n",
    "Now it's your turn to practice using WHERE with text values!\n",
    "\n",
    "Important: in PostgreSQL (the version of SQL we're using), you must use single quotes with WHERE.\n",
    "\n",
    "Instructions 4/4\n",
    "\n",
    "* Get all details for all French language films.\n",
    "* Get the name and birth date of the person born on November 11th, 1974. Remember to use ISO date format ('1974-11-11')!\n",
    "* Get the number of Hindi language films.\n",
    "* Get all details for all films with an R certification."
   ]
  },
  {
   "cell_type": "code",
   "execution_count": null,
   "id": "899f0c5c",
   "metadata": {},
   "outputs": [],
   "source": [
    "SELECT *\n",
    "FROM films\n",
    "WHERE language = 'French';"
   ]
  },
  {
   "cell_type": "code",
   "execution_count": null,
   "id": "105cde1f",
   "metadata": {},
   "outputs": [],
   "source": [
    "SELECT name,birthdate\n",
    "FROM people\n",
    "WHERE birthdate = '1974-11-11';"
   ]
  },
  {
   "cell_type": "code",
   "execution_count": null,
   "id": "0e6119fa",
   "metadata": {},
   "outputs": [],
   "source": [
    "SELECT COUNT(*)\n",
    "FROM films\n",
    "WHERE language = 'Hindi';"
   ]
  },
  {
   "cell_type": "code",
   "execution_count": null,
   "id": "37df9dd1",
   "metadata": {},
   "outputs": [],
   "source": [
    "SELECT *\n",
    "FROM films\n",
    "WHERE certification = 'R';"
   ]
  },
  {
   "cell_type": "markdown",
   "id": "b5341dca",
   "metadata": {},
   "source": [
    "### WHERE AND\n",
    "Often, you'll want to select data based on multiple conditions. You can build up your WHERE queries by combining multiple conditions with the AND keyword.\n",
    "\n",
    "For example,\n",
    "\n",
    "SELECT title\n",
    "\n",
    "FROM films\n",
    "\n",
    "WHERE release_year > 1994\n",
    "\n",
    "AND release_year < 2000;\n",
    "\n",
    "gives you the titles of films released between 1994 and 2000.\n",
    "\n",
    "Note that you need to specify the column name separately for every AND condition, so the following would be invalid:\n",
    "\n",
    "SELECT title\n",
    "\n",
    "FROM films\n",
    "\n",
    "WHERE release_year > 1994 AND < 2000;\n",
    "\n",
    "You can add as many AND conditions as you need!\n",
    "\n",
    "Instructions:\n",
    "\n",
    "* Get the title and release year for all Spanish language films released before 2000.\n",
    "* Get all details for Spanish language films released after 2000.\n",
    "* Get all details for Spanish language films released after 2000, but before 2010."
   ]
  },
  {
   "cell_type": "code",
   "execution_count": null,
   "id": "eb67728f",
   "metadata": {},
   "outputs": [],
   "source": [
    "SELECT title,release_year\n",
    "FROM films\n",
    "WHERE language = 'Spanish'\n",
    "AND release_year < 2000;"
   ]
  },
  {
   "cell_type": "code",
   "execution_count": null,
   "id": "ef8a8e33",
   "metadata": {},
   "outputs": [],
   "source": [
    "SELECT *\n",
    "FROM films\n",
    "WHERE language = 'Spanish'\n",
    "AND release_year > 2000;"
   ]
  },
  {
   "cell_type": "code",
   "execution_count": null,
   "id": "fad41769",
   "metadata": {},
   "outputs": [],
   "source": [
    "SELECT *\n",
    "FROM films\n",
    "WHERE release_year > 2000\n",
    "AND release_year < 2010\n",
    "AND language = 'Spanish';"
   ]
  },
  {
   "cell_type": "markdown",
   "id": "7ebdbafa",
   "metadata": {},
   "source": [
    "### WHERE AND OR (2)\n",
    "You now know how to select rows that meet some but not all conditions by combining AND and OR.\n",
    "\n",
    "For example, the following query selects all films that were released in 1994 or 1995 which had a rating of PG or R.\n",
    "\n",
    "    SELECT title\n",
    "    FROM films\n",
    "    WHERE (release_year = 1994 OR release_year = 1995)\n",
    "    AND (certification = 'PG' OR certification = 'R');\n",
    "Now you'll write a query to get the title and release year of films released in the 90s which were in French or Spanish and which took in more than $2M gross.\n",
    "\n",
    "It looks like a lot, but you can build the query up one step at a time to get comfortable with the underlying concept in each step. Let's go!\n",
    "\n",
    "Instructions:\n",
    "\n",
    "* Get the title and release year for films released in the 90s.\n",
    "* Now, build on your query to filter the records to only include French or Spanish language films.\n",
    "* Finally, restrict the query to only return films that took in more than $2M gross."
   ]
  },
  {
   "cell_type": "code",
   "execution_count": null,
   "id": "c82b3fd6",
   "metadata": {},
   "outputs": [],
   "source": [
    "SELECT title,release_year\n",
    "FROM films\n",
    "WHERE (release_year >=1990  AND release_year < 2000)\n"
   ]
  },
  {
   "cell_type": "code",
   "execution_count": null,
   "id": "5cced203",
   "metadata": {},
   "outputs": [],
   "source": [
    "SELECT title,release_year\n",
    "FROM films\n",
    "WHERE (release_year >=1990  AND release_year < 2000)\n",
    "AND (language = 'French' OR language ='Spanish')"
   ]
  },
  {
   "cell_type": "code",
   "execution_count": null,
   "id": "6012860c",
   "metadata": {},
   "outputs": [],
   "source": [
    "SELECT title, release_year\n",
    "FROM films\n",
    "WHERE (release_year >= 1990 AND release_year < 2000)\n",
    "AND (language = 'French' OR language = 'Spanish')\n",
    "AND (gross>2000000)"
   ]
  },
  {
   "cell_type": "markdown",
   "id": "a7571f2a",
   "metadata": {},
   "source": [
    "### BETWEEN (2)\n",
    "Similar to the WHERE clause, the BETWEEN clause can be used with multiple AND and OR operators, so you can build up your queries and make them even more powerful!\n",
    "\n",
    "For example, suppose we have a table called kids. We can get the names of all kids between the ages of 2 and 12 from the United States:\n",
    "\n",
    "    SELECT name\n",
    "    FROM kids\n",
    "    WHERE age BETWEEN 2 AND 12\n",
    "    AND nationality = 'USA';\n",
    "\n",
    "Take a go at using BETWEEN with AND on the films data to get the title and release year of all Spanish language films released between 1990 and 2000 (inclusive) with budgets over $100 million. We have broken the problem into smaller steps so that you can build the query as you go along!\n",
    "\n",
    "Instructions:\n",
    "\n",
    "* Get the title and release year of all films released between 1990 and 2000 (inclusive).\n",
    "* Now, build on your previous query to select only films that have budgets over $100 million.\n",
    "* Now restrict the query to only return Spanish language films.\n",
    "* Finally, modify to your previous query to include all Spanish language or French language films with the same criteria as before. Don't forget your parentheses!\n",
    "\n",
    "\n",
    "\n"
   ]
  },
  {
   "cell_type": "code",
   "execution_count": null,
   "id": "e1e273de",
   "metadata": {},
   "outputs": [],
   "source": [
    "SELECT title,release_year\n",
    "FROM films\n",
    "WHERE release_year BETWEEN 1990 AND 2000"
   ]
  },
  {
   "cell_type": "code",
   "execution_count": null,
   "id": "92c4a046",
   "metadata": {},
   "outputs": [],
   "source": [
    "SELECT title, release_year\n",
    "FROM films\n",
    "WHERE release_year BETWEEN 1990 AND 2000\n",
    "AND budget > 100000000"
   ]
  },
  {
   "cell_type": "code",
   "execution_count": null,
   "id": "ab96386a",
   "metadata": {},
   "outputs": [],
   "source": [
    "SELECT title, release_year\n",
    "FROM films\n",
    "WHERE release_year BETWEEN 1990 AND 2000\n",
    "AND budget > 100000000\n",
    "AND language = 'Spanish'"
   ]
  },
  {
   "cell_type": "code",
   "execution_count": null,
   "id": "563c58be",
   "metadata": {},
   "outputs": [],
   "source": [
    "SELECT title, release_year\n",
    "FROM films\n",
    "WHERE release_year BETWEEN 1990 AND 2000\n",
    "AND budget > 100000000\n",
    "AND (language = 'Spanish' OR language = 'French');"
   ]
  },
  {
   "cell_type": "markdown",
   "id": "3448f8e2",
   "metadata": {},
   "source": [
    "### WHERE IN\n",
    "As you've seen, WHERE is very useful for filtering results. However, if you want to filter based on many conditions, WHERE can get unwieldy. For example:\n",
    "\n",
    "    SELECT name\n",
    "    FROM kids\n",
    "    WHERE age = 2\n",
    "    OR age = 4\n",
    "    OR age = 6\n",
    "    OR age = 8\n",
    "    OR age = 10;\n",
    "    \n",
    "Enter the IN operator! The IN operator allows you to specify multiple values in a WHERE clause, making it easier and quicker to specify multiple OR conditions! Neat, right?\n",
    "\n",
    "So, the above example would become simply:\n",
    "\n",
    "    SELECT name\n",
    "    FROM kids\n",
    "    WHERE age IN (2, 4, 6, 8, 10);\n",
    "    \n",
    "Try using the IN operator yourself!\n",
    "\n",
    "Instructions:\n",
    "* Get the title and release year of all films released in 1990 or 2000 that were longer than two hours. Remember, duration is in minutes!\n",
    "* Get the title and language of all films which were in English, Spanish, or French.\n",
    "* Get the title and certification of all films with an NC-17 or R certification.\n",
    "\n"
   ]
  },
  {
   "cell_type": "code",
   "execution_count": null,
   "id": "8ee3dbe5",
   "metadata": {},
   "outputs": [],
   "source": [
    "SELECT title,release_year\n",
    "FROM films\n",
    "WHERE release_year IN (1990, 2000)\n",
    "AND duration > 120;"
   ]
  },
  {
   "cell_type": "code",
   "execution_count": null,
   "id": "9d9fb7c3",
   "metadata": {},
   "outputs": [],
   "source": [
    "SELECT title,language\n",
    "FROM films\n",
    "WHERE language IN ('English','Spanish','French')"
   ]
  },
  {
   "cell_type": "code",
   "execution_count": null,
   "id": "5249792f",
   "metadata": {},
   "outputs": [],
   "source": [
    "SELECT title,certification\n",
    "FROM films\n",
    "WHERE certification IN ('NC-17','R')"
   ]
  },
  {
   "cell_type": "markdown",
   "id": "acb08856",
   "metadata": {},
   "source": [
    "### NULL and IS NULL\n",
    "Now that you know what NULL is and what it's used for, it's time for some practice!\n",
    "\n",
    "Instructions:\n",
    "\n",
    "Instructions:\n",
    "\n",
    "* Get the names of people who are still alive, i.e. whose death date is missing.\n",
    "* Get the title of every film which doesn't have a budget associated with it.\n",
    "* Get the number of films which don't have a language associated with them."
   ]
  },
  {
   "cell_type": "code",
   "execution_count": null,
   "id": "434f7569",
   "metadata": {},
   "outputs": [],
   "source": [
    "SELECT name\n",
    "FROM people\n",
    "WHERE deathdate IS NULL;"
   ]
  },
  {
   "cell_type": "code",
   "execution_count": null,
   "id": "63e0f2ef",
   "metadata": {},
   "outputs": [],
   "source": [
    "SELECT title\n",
    "FROM films\n",
    "WHERE budget IS NULL;"
   ]
  },
  {
   "cell_type": "code",
   "execution_count": null,
   "id": "949cdfdd",
   "metadata": {},
   "outputs": [],
   "source": [
    "SELECT COUNT (*)\n",
    "FROM films\n",
    "WHERE language IS NULL;"
   ]
  },
  {
   "cell_type": "markdown",
   "id": "ada85d9f",
   "metadata": {},
   "source": [
    "### LIKE and NOT LIKE\n",
    "As you've seen, the WHERE clause can be used to filter text data. However, so far you've only been able to filter by specifying the exact text you're interested in. In the real world, often you'll want to search for a pattern rather than a specific text string.\n",
    "\n",
    "In SQL, the LIKE operator can be used in a WHERE clause to search for a pattern in a column. To accomplish this, you use something called a wildcard as a placeholder for some other values. There are two wildcards you can use with LIKE:\n",
    "\n",
    "The % wildcard will match zero, one, or many characters in text. For example, the following query matches companies like 'Data', 'DataC' 'DataCamp', 'DataMind', and so on:\n",
    "\n",
    "    SELECT name\n",
    "    FROM companies\n",
    "    WHERE name LIKE 'Data%';\n",
    "The _ wildcard will match a single character. For example, the following query matches companies like 'DataCamp', 'DataComp', and so on:\n",
    "\n",
    "    SELECT name\n",
    "    FROM companies\n",
    "    WHERE name LIKE 'DataC_mp';\n",
    "You can also use the NOT LIKE operator to find records that don't match the pattern you specify.\n",
    "\n",
    "Got it? Let's practice!\n",
    "\n",
    "Instructions:\n",
    "\n",
    "* Get the names of all people whose names begin with 'B'. The pattern you need is 'B%'.\n",
    "* Get the names of people whose names have 'r' as the second letter. The pattern you need is '_r%'.\n",
    "* Get the names of people whose names don't start with A. The pattern you need is 'A%'."
   ]
  },
  {
   "cell_type": "code",
   "execution_count": null,
   "id": "9e0949d7",
   "metadata": {},
   "outputs": [],
   "source": [
    "SELECT name\n",
    "FROM people\n",
    "WHERE name LIKE 'B%';"
   ]
  },
  {
   "cell_type": "code",
   "execution_count": null,
   "id": "72cde959",
   "metadata": {},
   "outputs": [],
   "source": [
    "SELECT name\n",
    "FROM people\n",
    "WHERE name LIKE '_r%';"
   ]
  },
  {
   "cell_type": "code",
   "execution_count": null,
   "id": "88ccdd7b",
   "metadata": {},
   "outputs": [],
   "source": [
    "SELECT name\n",
    "FROM people\n",
    "WHERE name NOT LIKE 'A%';"
   ]
  },
  {
   "cell_type": "markdown",
   "id": "d1be48a7",
   "metadata": {},
   "source": [
    "## Aggregate Functions\n",
    "This chapter teaches you how to use aggregate functions to summarize data and gain useful insights. You'll also learn about arithmetic in SQL and how to use aliases to make your results more readable."
   ]
  },
  {
   "cell_type": "markdown",
   "id": "6b86d279",
   "metadata": {},
   "source": [
    "### Aggregate functions\n",
    "Often, you will want to perform some calculation on the data in a database. SQL provides a few functions, called aggregate functions, to help you out with this.\n",
    "\n",
    "For example,\n",
    "\n",
    "    SELECT AVG(budget)\n",
    "    FROM films;\n",
    "gives you the average value from the budget column of the films table. Similarly, the MAX() function returns the highest budget:\n",
    "\n",
    "    SELECT MAX(budget)\n",
    "    FROM films;\n",
    "The SUM() function returns the result of adding up the numeric values in a column:\n",
    "\n",
    "    SELECT SUM(budget)\n",
    "    FROM films;\n",
    "You can probably guess what the MIN() function does! Now it's your turn to try out some SQL functions.\n",
    "\n",
    "Instructions:\n",
    "\n",
    "* Use the SUM() function to get the total duration of all films.\n",
    "* Get the average duration of all films.\n",
    "* Get the duration of the shortest film.\n",
    "* Get the duration of the longest film."
   ]
  },
  {
   "cell_type": "code",
   "execution_count": null,
   "id": "5a759a66",
   "metadata": {},
   "outputs": [],
   "source": [
    "SELECT SUM(duration)\n",
    "FROM films;"
   ]
  },
  {
   "cell_type": "code",
   "execution_count": null,
   "id": "e78d0b3a",
   "metadata": {},
   "outputs": [],
   "source": [
    "SELECT AVG(duration)\n",
    "FROM films;"
   ]
  },
  {
   "cell_type": "code",
   "execution_count": null,
   "id": "a6e72202",
   "metadata": {},
   "outputs": [],
   "source": [
    "SELECT MIN(duration)\n",
    "FROM films;"
   ]
  },
  {
   "cell_type": "code",
   "execution_count": null,
   "id": "777d99e0",
   "metadata": {},
   "outputs": [],
   "source": [
    "SELECT MAX(duration)\n",
    "FROM films;"
   ]
  },
  {
   "cell_type": "markdown",
   "id": "3f288cc4",
   "metadata": {},
   "source": [
    "### Aggregate functions practice\n",
    "Good work. Aggregate functions are important to understand, so let's get some more practice!\n",
    "\n",
    "Instructions:\n",
    "\n",
    "* Use the SUM() function to get the total amount grossed by all films.\n",
    "* Get the average amount grossed by all films.\n",
    "* Get the amount grossed by the worst performing film.\n",
    "* Get the amount grossed by the best performing film."
   ]
  },
  {
   "cell_type": "code",
   "execution_count": null,
   "id": "4ea281a2",
   "metadata": {},
   "outputs": [],
   "source": [
    "SELECT SUM(gross)\n",
    "FROM films;"
   ]
  },
  {
   "cell_type": "code",
   "execution_count": null,
   "id": "755fc65e",
   "metadata": {},
   "outputs": [],
   "source": [
    "SELECT AVG(gross)\n",
    "FROM films;"
   ]
  },
  {
   "cell_type": "code",
   "execution_count": null,
   "id": "bf56c961",
   "metadata": {},
   "outputs": [],
   "source": [
    "SELECT MIN(gross)\n",
    "FROM films;"
   ]
  },
  {
   "cell_type": "code",
   "execution_count": null,
   "id": "a50e3b6d",
   "metadata": {},
   "outputs": [],
   "source": [
    "SELECT MAX(gross)\n",
    "FROM films;"
   ]
  },
  {
   "cell_type": "markdown",
   "id": "d2d0862b",
   "metadata": {},
   "source": [
    "### Combining aggregate functions with WHERE\n",
    "Aggregate functions can be combined with the WHERE clause to gain further insights from your data.\n",
    "\n",
    "For example, to get the total budget of movies made in the year 2010 or later:\n",
    "\n",
    "    SELECT SUM(budget)\n",
    "    FROM films\n",
    "    WHERE release_year >= 2010;\n",
    "Now it's your turn!\n",
    "\n",
    "Instructions:\n",
    "\n",
    "* Use the SUM() function to get the total amount grossed by all films made in the year 2000 or later.\n",
    "* Get the average amount grossed by all films whose titles start with the letter 'A'.\n",
    "* Get the amount grossed by the worst performing film in 1994.\n",
    "* Get the amount grossed by the best performing film between 2000 and 2012, inclusive."
   ]
  },
  {
   "cell_type": "code",
   "execution_count": null,
   "id": "6b493e45",
   "metadata": {},
   "outputs": [],
   "source": [
    "SELECT SUM(gross)\n",
    "FROM films\n",
    "WHERE release_year >= 2000;"
   ]
  },
  {
   "cell_type": "code",
   "execution_count": null,
   "id": "c6898610",
   "metadata": {},
   "outputs": [],
   "source": [
    "SELECT AVG(gross)\n",
    "FROM films\n",
    "WHERE title LIKE 'A%';"
   ]
  },
  {
   "cell_type": "code",
   "execution_count": null,
   "id": "71804826",
   "metadata": {},
   "outputs": [],
   "source": [
    "SELECT MIN(gross)\n",
    "FROM films\n",
    "WHERE release_year = 1994;"
   ]
  },
  {
   "cell_type": "code",
   "execution_count": null,
   "id": "49f52a92",
   "metadata": {},
   "outputs": [],
   "source": [
    "SELECT MAX(gross)\n",
    "FROM films\n",
    "WHERE release_year BETWEEN 2000 AND 2012;"
   ]
  },
  {
   "cell_type": "markdown",
   "id": "057e1e42",
   "metadata": {},
   "source": [
    "### A note on arithmetic\n",
    "In addition to using aggregate functions, you can perform basic arithmetic with symbols like +, -, *, and /.\n",
    "\n",
    "So, for example, this gives a result of 12:\n",
    "\n",
    "    SELECT (4 * 3);\n",
    "However, the following gives a result of 1:\n",
    "\n",
    "    SELECT (4 / 3);\n",
    "What's going on here?\n",
    "\n",
    "SQL assumes that if you divide an integer by an integer, you want to get an integer back. So be careful when dividing!\n",
    "\n",
    "If you want more precision when dividing, you can add decimal places to your numbers. For example,\n",
    "\n",
    "    SELECT (4.0 / 3.0) AS result;\n",
    "gives you the result you would expect: 1.333.\n"
   ]
  },
  {
   "cell_type": "markdown",
   "id": "ef108b9c",
   "metadata": {},
   "source": [
    "### It's AS simple AS aliasing\n",
    "You may have noticed in the first exercise of this chapter that the column name of your result was just the name of the function you used. For example,\n",
    "\n",
    "    SELECT MAX(budget)\n",
    "    FROM films;\n",
    "gives you a result with one column, named max. But what if you use two functions like this?\n",
    "\n",
    "    SELECT MAX(budget), MAX(duration)\n",
    "    FROM films;\n",
    "Well, then you'd have two columns named max, which isn't very useful!\n",
    "\n",
    "To avoid situations like this, SQL allows you to do something called aliasing. Aliasing simply means you assign a temporary name to something. To alias, you use the AS keyword, which you've already seen earlier in this course.\n",
    "\n",
    "For example, in the above example we could use aliases to make the result clearer:\n",
    "\n",
    "    SELECT MAX(budget) AS max_budget,\n",
    "           MAX(duration) AS max_duration\n",
    "FROM films;\n",
    "Aliases are helpful for making results more readable!\n",
    "\n",
    "Instructions:\n",
    "\n",
    "* Get the title and net profit (the amount a film grossed, minus its budget) for all films. Alias the net profit as net_profit.\n",
    "* Get the title and duration in hours for all films. The duration is in minutes, so you'll need to divide by 60.0 to get the duration in hours. Alias the duration in hours as duration_hours.\n",
    "* Get the average duration in hours for all films, aliased as avg_duration_hours."
   ]
  },
  {
   "cell_type": "code",
   "execution_count": null,
   "id": "21d96663",
   "metadata": {},
   "outputs": [],
   "source": [
    "SELECT title,(gross - budget) AS net_profit\n",
    "FROM films;"
   ]
  },
  {
   "cell_type": "code",
   "execution_count": null,
   "id": "494efa2e",
   "metadata": {},
   "outputs": [],
   "source": [
    "SELECT title, (duration/60.0) AS duration_hours\n",
    "FROM films;"
   ]
  },
  {
   "cell_type": "code",
   "execution_count": null,
   "id": "d3daf309",
   "metadata": {},
   "outputs": [],
   "source": [
    "SELECT AVG(duration)/60.0 AS avg_duration_hours\n",
    "FROM films;"
   ]
  },
  {
   "cell_type": "markdown",
   "id": "2e861421",
   "metadata": {},
   "source": [
    "Even more aliasing\n",
    "Let's practice your newfound aliasing skills some more before moving on!\n",
    "\n",
    "Recall: SQL assumes that if you divide an integer by an integer, you want to get an integer back.\n",
    "\n",
    "This means that the following will erroneously result in 400.0:\n",
    "\n",
    "    SELECT 45 / 10 * 100.0;\n",
    "This is because 45 / 10 evaluates to an integer (4), and not a decimal number like we would expect.\n",
    "\n",
    "So when you're dividing make sure at least one of your numbers has a decimal place:\n",
    "\n",
    "    SELECT 45 * 100.0 / 10;\n",
    "The above now gives the correct answer of 450.0 since the numerator (45 * 100.0) of the division is now a decimal!\n",
    "\n",
    "Instructions:\n",
    "\n",
    "* Get the percentage of people who are no longer alive. Alias the result as percentage_dead. Remember to use 100.0 and not 100!\n",
    "* Get the number of years between the newest film and oldest film. Alias the result as difference.\n",
    "* Get the number of decades the films table covers. Alias the result as number_of_decades. The top half of your fraction should be enclosed in parentheses."
   ]
  },
  {
   "cell_type": "code",
   "execution_count": null,
   "id": "988be435",
   "metadata": {},
   "outputs": [],
   "source": [
    "SELECT COUNT(deathdate) * 100.0 / COUNT(*) AS percentage_dead\n",
    "FROM people;"
   ]
  },
  {
   "cell_type": "code",
   "execution_count": null,
   "id": "a6e85ebb",
   "metadata": {},
   "outputs": [],
   "source": [
    "SELECT (MAX(release_year) - MIN(release_year)) AS difference\n",
    "FROM films;"
   ]
  },
  {
   "cell_type": "code",
   "execution_count": null,
   "id": "0c66e2a8",
   "metadata": {},
   "outputs": [],
   "source": [
    "SELECT (MAX(release_year)-MIN(release_year))/10.0 AS number_of_decades\n",
    "FROM films;"
   ]
  },
  {
   "cell_type": "markdown",
   "id": "2a34a81d",
   "metadata": {},
   "source": [
    "## Sorting and grouping\n",
    "This chapter provides a brief introduction to sorting and grouping your results."
   ]
  },
  {
   "cell_type": "markdown",
   "id": "8dfd239d",
   "metadata": {},
   "source": [
    "### Sorting single columns\n",
    "Now that you understand how ORDER BY works, give these exercises a go!\n",
    "\n",
    "Instructions:\n",
    "\n",
    "* Get the names of people from the people table, sorted alphabetically.\n",
    "* Get the names of people, sorted by birth date.\n",
    "* Get the birth date and name for every person, in order of when they were born."
   ]
  },
  {
   "cell_type": "code",
   "execution_count": null,
   "id": "1696feec",
   "metadata": {},
   "outputs": [],
   "source": [
    "SELECT name\n",
    "FROM people\n",
    "ORDER BY name;"
   ]
  },
  {
   "cell_type": "code",
   "execution_count": null,
   "id": "c1dde89f",
   "metadata": {},
   "outputs": [],
   "source": [
    "SELECT name\n",
    "FROM people\n",
    "ORDER BY birthdate;"
   ]
  },
  {
   "cell_type": "code",
   "execution_count": null,
   "id": "15c836dc",
   "metadata": {},
   "outputs": [],
   "source": [
    "SELECT birthdate,name\n",
    "FROM people\n",
    "ORDER BY birthdate;"
   ]
  },
  {
   "cell_type": "markdown",
   "id": "4dbce731",
   "metadata": {},
   "source": [
    "### Sorting single columns (2)\n",
    "Let's get some more practice with ORDER BY!\n",
    "\n",
    "Instructions:\n",
    "\n",
    "* Get the title of films released in 2000 or 2012, in the order they were released.\n",
    "* Get all details for all films except those released in 2015 and order them by duration.\n",
    "* Get the title and gross earnings for movies which begin with the letter 'M' and order the results alphabetically."
   ]
  },
  {
   "cell_type": "code",
   "execution_count": null,
   "id": "d52d5292",
   "metadata": {},
   "outputs": [],
   "source": [
    "SELECT title\n",
    "FROM films \n",
    "WHERE release_year IN (2000,2012)\n",
    "ORDER BY release_year;"
   ]
  },
  {
   "cell_type": "code",
   "execution_count": null,
   "id": "8d8aa5d3",
   "metadata": {},
   "outputs": [],
   "source": [
    "SELECT *\n",
    "FROM films\n",
    "WHERE release_year <> 2015\n",
    "ORDER BY duration;"
   ]
  },
  {
   "cell_type": "code",
   "execution_count": null,
   "id": "45ae801b",
   "metadata": {},
   "outputs": [],
   "source": [
    "SELECT title,gross\n",
    "FROM films\n",
    "WHERE title LIKE 'M%'\n",
    "ORDER BY title;"
   ]
  },
  {
   "cell_type": "markdown",
   "id": "b7afd4cc",
   "metadata": {},
   "source": [
    "### Sorting single columns (DESC)\n",
    "To order results in descending order, you can put the keyword DESC after your ORDER BY. For example, to get all the names in the people table, in reverse alphabetical order:\n",
    "\n",
    "    SELECT name\n",
    "    FROM people\n",
    "    ORDER BY name DESC;\n",
    "Now practice using ORDER BY with DESC to sort single columns in descending order!\n",
    "\n",
    "Instructions:\n",
    "\n",
    "* Get the IMDB score and film ID for every film from the reviews table, sorted from highest to lowest score.\n",
    "* Get the title for every film, in reverse order.\n",
    "* Get the title and duration for every film, in order of longest duration to shortest."
   ]
  },
  {
   "cell_type": "code",
   "execution_count": null,
   "id": "71795c0f",
   "metadata": {},
   "outputs": [],
   "source": [
    "SELECT imdb_score,film_id\n",
    "FROM reviews\n",
    "ORDER BY imdb_score DESC;"
   ]
  },
  {
   "cell_type": "code",
   "execution_count": null,
   "id": "a930c735",
   "metadata": {},
   "outputs": [],
   "source": [
    "SELECT title\n",
    "FROM films\n",
    "ORDER BY title DESC;"
   ]
  },
  {
   "cell_type": "code",
   "execution_count": null,
   "id": "48d62461",
   "metadata": {},
   "outputs": [],
   "source": [
    "SELECT title,duration\n",
    "FROM films\n",
    "ORDER BY duration DESC;"
   ]
  },
  {
   "cell_type": "markdown",
   "id": "04372df5",
   "metadata": {},
   "source": [
    "### Sorting multiple columns\n",
    "ORDER BY can also be used to sort on multiple columns. It will sort by the first column specified, then sort by the next, then the next, and so on. For example,\n",
    "\n",
    "    SELECT birthdate, name\n",
    "    FROM people\n",
    "    ORDER BY birthdate, name;\n",
    "sorts on birth dates first (oldest to newest) and then sorts on the names in alphabetical order. The order of columns is important!\n",
    "\n",
    "Try using ORDER BY to sort multiple columns! Remember, to specify multiple columns you separate the column names with a comma.\n",
    "\n",
    "Instructions:\n",
    "\n",
    "* Get the birth date and name of people in the people table, in order of when they were born and alphabetically by name.\n",
    "* Get the release year, duration, and title of films ordered by their release year and duration.\n",
    "* Get certifications, release years, and titles of films ordered by certification (alphabetically) and release year.\n",
    "* Get the names and birthdates of people ordered by name and birth date."
   ]
  },
  {
   "cell_type": "code",
   "execution_count": null,
   "id": "9aea42a4",
   "metadata": {},
   "outputs": [],
   "source": [
    "SELECT birthdate, name\n",
    "FROM people\n",
    "ORDER BY birthdate, name;"
   ]
  },
  {
   "cell_type": "code",
   "execution_count": null,
   "id": "4972801a",
   "metadata": {},
   "outputs": [],
   "source": [
    "SELECT release_year,duration,title\n",
    "FROM films\n",
    "ORDER BY release_year, duration;"
   ]
  },
  {
   "cell_type": "code",
   "execution_count": null,
   "id": "7ed497df",
   "metadata": {},
   "outputs": [],
   "source": [
    "SELECT certification,release_year,title\n",
    "FROM films\n",
    "ORDER BY certification, release_year;"
   ]
  },
  {
   "cell_type": "code",
   "execution_count": null,
   "id": "be800c7b",
   "metadata": {},
   "outputs": [],
   "source": [
    "SELECT name,birthdate\n",
    "FROM people\n",
    "ORDER BY name, birthdate;"
   ]
  },
  {
   "cell_type": "markdown",
   "id": "82185f95",
   "metadata": {},
   "source": [
    "### GROUP BY practice\n",
    "As you've just seen, combining aggregate functions with GROUP BY can yield some powerful results!\n",
    "\n",
    "A word of warning: SQL will return an error if you try to SELECT a field that is not in your GROUP BY clause without using it to calculate some kind of value about the entire group.\n",
    "\n",
    "Note that you can combine GROUP BY with ORDER BY to group your results, calculate something about them, and then order your results. For example,\n",
    "\n",
    "    SELECT sex, count(*)\n",
    "    FROM employees\n",
    "    GROUP BY sex\n",
    "    ORDER BY count DESC;\n",
    "might return something like\n",
    "\n",
    "    sex\tcount\n",
    "    female\t19\n",
    "    male\t15\n",
    "\n",
    "because there are more females at our company than males. Note also that ORDER BY always goes after GROUP BY. Let's try some exercises!\n",
    "\n",
    "Instructions:\n",
    "\n",
    "* Get the release year and count of films released in each year.\n",
    "* Get the release year and average duration of all films, grouped by release year.\n",
    "* Get the release year and largest budget for all films, grouped by release year.\n",
    "* Get the IMDB score and count of film reviews grouped by IMDB score in the reviews table."
   ]
  },
  {
   "cell_type": "code",
   "execution_count": null,
   "id": "752451d1",
   "metadata": {},
   "outputs": [],
   "source": [
    "SELECT release_year, COUNT(*)\n",
    "FROM films\n",
    "GROUP BY release_year;"
   ]
  },
  {
   "cell_type": "code",
   "execution_count": null,
   "id": "d29a6558",
   "metadata": {},
   "outputs": [],
   "source": [
    "SELECT release_year, AVG(duration)\n",
    "FROM films\n",
    "GROUP BY release_year;"
   ]
  },
  {
   "cell_type": "code",
   "execution_count": null,
   "id": "59d68be9",
   "metadata": {},
   "outputs": [],
   "source": [
    "SELECT release_year, MAX(budget)\n",
    "FROM films\n",
    "GROUP BY release_year;"
   ]
  },
  {
   "cell_type": "code",
   "execution_count": null,
   "id": "4c14104f",
   "metadata": {},
   "outputs": [],
   "source": [
    "SELECT imdb_score, COUNT(*)\n",
    "FROM reviews\n",
    "GROUP BY imdb_score;"
   ]
  },
  {
   "cell_type": "markdown",
   "id": "77e83d32",
   "metadata": {},
   "source": [
    "### GROUP BY practice (2)\n",
    "Now practice your new skills by combining GROUP BY and ORDER BY with some more aggregate functions!\n",
    "\n",
    "Make sure to always put the ORDER BY clause at the end of your query. You can't sort values that you haven't calculated yet!\n",
    "\n",
    "Instructions: \n",
    "* Get the release year and lowest gross earnings per release year.\n",
    "* Get the language and total gross amount films in each language made.\n",
    "* Get the country and total budget spent making movies in each country.\n",
    "* Get the release year, country, and highest budget spent making a film for each year, for each country. Sort your results by release year and country.\n",
    "* Get the country, release year, and lowest amount grossed per release year per country. Order your results by country and release year."
   ]
  },
  {
   "cell_type": "code",
   "execution_count": null,
   "id": "19be640c",
   "metadata": {},
   "outputs": [],
   "source": [
    "SELECT release_year,MIN(gross)\n",
    "FROM films\n",
    "GROUP BY release_year;"
   ]
  },
  {
   "cell_type": "code",
   "execution_count": null,
   "id": "deeb4895",
   "metadata": {},
   "outputs": [],
   "source": [
    "SELECT language,SUM(gross)\n",
    "FROM films\n",
    "GROUP BY language;"
   ]
  },
  {
   "cell_type": "code",
   "execution_count": null,
   "id": "f9948a0b",
   "metadata": {},
   "outputs": [],
   "source": [
    "SELECT country,SUM(budget)\n",
    "FROM films\n",
    "GROUP BY country;"
   ]
  },
  {
   "cell_type": "code",
   "execution_count": null,
   "id": "ec79ebce",
   "metadata": {},
   "outputs": [],
   "source": [
    "SELECT release_year, country, MAX(budget)\n",
    "FROM films\n",
    "GROUP BY release_year, country\n",
    "ORDER BY release_year, country;"
   ]
  },
  {
   "cell_type": "code",
   "execution_count": null,
   "id": "1d0a58db",
   "metadata": {},
   "outputs": [],
   "source": [
    "SELECT country,release_year,MIN(gross)\n",
    "FROM films\n",
    "GROUP BY release_year, country\n",
    "ORDER BY country, release_year;"
   ]
  },
  {
   "cell_type": "markdown",
   "id": "67cc7f02",
   "metadata": {},
   "source": [
    "### HAVING a great time\n",
    "In SQL, aggregate functions can't be used in WHERE clauses. For example, the following query is invalid:\n",
    "\n",
    "    SELECT release_year\n",
    "    FROM films\n",
    "    GROUP BY release_year\n",
    "    WHERE COUNT(title) > 10;\n",
    "This means that if you want to filter based on the result of an aggregate function, you need another way! That's where the HAVING clause comes in. For example,\n",
    "\n",
    "    SELECT release_year\n",
    "    FROM films\n",
    "    GROUP BY release_year\n",
    "    HAVING COUNT(title) > 10;\n",
    "shows only those years in which more than 10 films were released."
   ]
  },
  {
   "cell_type": "markdown",
   "id": "2911064c",
   "metadata": {},
   "source": [
    "Instructions:\n",
    "\n",
    "* Get the release year, budget and gross earnings for each film in the films table.\n",
    "* Modify your query so that only records with a release_year after 1990 are included.\n",
    "* Remove the budget and gross columns, and group your results by release year.\n",
    "* Modify your query to include the average budget and average gross earnings for the results you have so far. Alias the average budget as avg_budget; alias the average gross earnings as avg_gross.\n",
    "* Modify your query so that only years with an average budget of greater than $60 million are included.\n",
    "* Finally, modify your query to order the results from highest average gross earnings to lowest.\n"
   ]
  },
  {
   "cell_type": "code",
   "execution_count": null,
   "id": "6d7ccf17",
   "metadata": {},
   "outputs": [],
   "source": [
    "SELECT release_year,budget,gross\n",
    "FROM films;"
   ]
  },
  {
   "cell_type": "code",
   "execution_count": null,
   "id": "d77cf974",
   "metadata": {},
   "outputs": [],
   "source": [
    "SELECT release_year\n",
    "FROM films\n",
    "WHERE release_year > 1990;"
   ]
  },
  {
   "cell_type": "code",
   "execution_count": null,
   "id": "f9000e40",
   "metadata": {},
   "outputs": [],
   "source": [
    "SELECT release_year\n",
    "FROM films\n",
    "WHERE release_year > 1990\n",
    "GROUP BY release_year;"
   ]
  },
  {
   "cell_type": "code",
   "execution_count": null,
   "id": "8d171fbe",
   "metadata": {},
   "outputs": [],
   "source": [
    "SELECT release_year, AVG(budget) AS avg_budget, AVG(gross) AS avg_gross\n",
    "FROM films\n",
    "WHERE release_year > 1990\n",
    "GROUP BY release_year;"
   ]
  },
  {
   "cell_type": "code",
   "execution_count": null,
   "id": "29170f07",
   "metadata": {},
   "outputs": [],
   "source": [
    "SELECT release_year, AVG(budget) AS avg_budget, AVG(gross) AS avg_gross\n",
    "FROM films\n",
    "WHERE release_year > 1990\n",
    "GROUP BY release_year\n",
    "HAVING AVG(budget) > 60000000;"
   ]
  },
  {
   "cell_type": "code",
   "execution_count": null,
   "id": "04d2a7d6",
   "metadata": {},
   "outputs": [],
   "source": [
    "SELECT release_year, AVG(budget) AS avg_budget, AVG(gross) AS avg_gross\n",
    "FROM films\n",
    "WHERE release_year > 1990\n",
    "GROUP BY release_year\n",
    "HAVING AVG(budget) > 60000000\n",
    "ORDER BY avg_gross DESC;"
   ]
  },
  {
   "cell_type": "markdown",
   "id": "fee12833",
   "metadata": {},
   "source": [
    "### All together now (2)\n",
    "Great work! Now try another large query. This time, all in one go!\n",
    "\n",
    "Remember, if you only want to return a certain number of results, you can use the LIMIT keyword to limit the number of rows returned\n",
    "\n",
    "Instructions:\n",
    "\n",
    "* Get the country, average budget, and average gross take of countries that have made more than 10 films. Order the result by country name, and limit the number of results displayed to 5. You should alias the averages as avg_budget and avg_gross respectively."
   ]
  },
  {
   "cell_type": "code",
   "execution_count": null,
   "id": "1c33d908",
   "metadata": {},
   "outputs": [],
   "source": [
    "SELECT country, AVG(budget) AS avg_budget, \n",
    "       AVG(gross) AS avg_gross\n",
    "FROM films\n",
    "GROUP BY country\n",
    "HAVING COUNT(title) > 10\n",
    "ORDER BY country\n",
    "LIMIT 5;"
   ]
  }
 ],
 "metadata": {
  "kernelspec": {
   "display_name": "Python 3",
   "language": "python",
   "name": "python3"
  },
  "language_info": {
   "codemirror_mode": {
    "name": "ipython",
    "version": 3
   },
   "file_extension": ".py",
   "mimetype": "text/x-python",
   "name": "python",
   "nbconvert_exporter": "python",
   "pygments_lexer": "ipython3",
   "version": "3.8.8"
  }
 },
 "nbformat": 4,
 "nbformat_minor": 5
}
