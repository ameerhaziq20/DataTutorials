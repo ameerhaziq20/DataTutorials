{
 "cells": [
  {
   "cell_type": "markdown",
   "id": "bb180be8",
   "metadata": {},
   "source": [
    "## Introduction to joins\n",
    "In this chapter, you'll be introduced to the concept of joining tables, and will explore the different ways you can enrich your queries using inner joins and self joins. You'll also see how to use the case statement to split up a field into different categories."
   ]
  },
  {
   "cell_type": "markdown",
   "id": "8cd8337f",
   "metadata": {},
   "source": [
    "## Inner join\n",
    "Although this courses focuses on PostgreSQL, you'll find that these joins and the material here applies to different forms of SQL as well.\n",
    "\n",
    "Throughout this course, you'll be working with the countries database containing information about the most populous world cities as well as country-level economic data, population data, and geographic data. This countries database also contains information on languages spoken in each country.\n",
    "\n",
    "You can see the different tables in this database by clicking on the corresponding tabs. Click through them to get a sense for the types of data that each table contains before you continue with the course! Take note of the fields that appear to be shared across the tables.\n",
    "\n",
    "Recall from the video the basic syntax for an INNER JOIN, here including all columns in both tables:\n",
    "\n",
    "    SELECT *\n",
    "    FROM left_table\n",
    "    INNER JOIN right_table\n",
    "    ON left_table.id = right_table.id;\n",
    "You'll start off with a SELECT statement and then build up to an INNER JOIN with the cities and countries tables. Let's get to it!\n",
    "\n",
    "Instructions:\n",
    "    \n",
    "* Begin by selecting all columns from the cities table.\n",
    "* Inner join the cities table on the left to the countries table on the right, keeping all of the fields in both tables.\n",
    " * You should match the tables on the country_code field in cities and the code field in countries.*\n",
    " * Do not alias your tables here or in the next step. Using cities and countries is fine for now.\n",
    "* Modify the SELECT statement to keep only the name of the city, the name of the country, and the name of the region the country resides in.\n",
    " * Alias the name of the city AS city and the name of the country AS country."
   ]
  },
  {
   "cell_type": "code",
   "execution_count": null,
   "id": "ce3ebc34",
   "metadata": {},
   "outputs": [],
   "source": [
    "-- Select all columns from cities\n",
    "SELECT *\n",
    "FROM cities;"
   ]
  },
  {
   "cell_type": "code",
   "execution_count": null,
   "id": "1ba801c1",
   "metadata": {},
   "outputs": [],
   "source": [
    "SELECT * \n",
    "FROM cities\n",
    "  INNER JOIN countries\n",
    "    -- Match on the country codes\n",
    "    ON cities.country_code = countries.code;"
   ]
  },
  {
   "cell_type": "code",
   "execution_count": null,
   "id": "a863a126",
   "metadata": {},
   "outputs": [],
   "source": [
    "SELECT cities.name AS city, countries.name AS country, region\n",
    "FROM cities\n",
    "  INNER JOIN countries\n",
    "    ON cities.country_code = countries.code;"
   ]
  },
  {
   "cell_type": "markdown",
   "id": "efbc7798",
   "metadata": {},
   "source": [
    "### Inner join (2)\n",
    "Instead of writing the full table name, you can use table aliasing as a shortcut. For tables you also use AS to add the alias immediately after the table name with a space. Check out the aliasing of cities and countries below.\n",
    "\n",
    "    SELECT c1.name AS city, c2.name AS country\n",
    "    FROM cities AS c1\n",
    "    INNER JOIN countries AS c2\n",
    "    ON c1.country_code = c2.code;\n",
    "Notice that to select a field in your query that appears in multiple tables, you'll need to identify which table/table alias you're referring to by using a . in your SELECT statement.\n",
    "\n",
    "You'll now explore a way to get data from both the countries and economies tables to examine the inflation rate for both 2010 and 2015.\n",
    "\n",
    "Sometimes it's easier to write SQL code out of order: you write the SELECT statement after you've done the JOIN.\n",
    "\n",
    "Instructions:\n",
    "\n",
    "* Join the tables countries (left) and economies (right) aliasing countries AS c and economies AS e.\n",
    "* Specify the field to match the tables ON.\n",
    "* From this join, SELECT:\n",
    "* c.code, aliased as country_code.\n",
    "* name, year, and inflation_rate, not aliased."
   ]
  },
  {
   "cell_type": "code",
   "execution_count": null,
   "id": "62e277de",
   "metadata": {},
   "outputs": [],
   "source": [
    "SELECT c.code AS country_code,name,year,inflation_rate\n",
    "FROM countries AS c\n",
    "INNER JOIN economies AS e\n",
    "ON c.code = e.code;"
   ]
  },
  {
   "cell_type": "markdown",
   "id": "e36bbcaf",
   "metadata": {},
   "source": [
    "### Inner join (3)\n",
    "The ability to combine multiple joins in a single query is a powerful feature of SQL, e.g:\n",
    "\n",
    "SELECT *\n",
    "FROM left_table\n",
    "  INNER JOIN right_table\n",
    "    ON left_table.id = right_table.id\n",
    "  INNER JOIN another_table\n",
    "    ON left_table.id = another_table.id;\n",
    "As you can see here it becomes tedious to continually write long table names in joins. This is when it becomes useful to alias each table using the first letter of its name (e.g. countries AS c)! It is standard practice to alias in this way and, if you choose to alias tables or are asked to specifically for an exercise in this course, you should follow this protocol.\n",
    "\n",
    "Now, for each country, you want to get the country name, its region, the fertility rate, and the unemployment rate for both 2010 and 2015.\n",
    "\n",
    "Note that results should work throughout this course with or without table aliasing unless specified differently.\n",
    "\n",
    "\n",
    "Instructions:\n",
    "\n",
    "* Inner join countries (left) and populations (right) on the code and country_code fields respectively.\n",
    "* Alias countries AS c and populations AS p.\n",
    "* Select code, name, and region from countries and also select year and fertility_rate from populations (5 fields in total).\n",
    "\n",
    "\n",
    "* Add an additional INNER JOIN with economies to your previous query by joining on code.\n",
    "* Include the unemployment_rate column that became available through joining with economies.\n",
    "* Note that year appears in both populations and economies, so you have to explicitly use e.year instead of year as you did before.\n",
    "\n",
    "\n",
    "* Scroll down the query result and take a look at the results for Albania from your previous query. Does something seem off to you?\n",
    "* The trouble with doing your last join on c.code = e.code and not also including year is that e.g. the 2010 value for fertility_rate is also paired with the 2015 value for unemployment_rate.\n",
    "* Fix your previous query: in your last ON clause, use AND to add an additional joining condition. In addition to joining on code in c and e, also join on year in e and p.\n",
    "\n"
   ]
  },
  {
   "cell_type": "code",
   "execution_count": null,
   "id": "15e4ecb6",
   "metadata": {},
   "outputs": [],
   "source": [
    "-- Select fields\n",
    "SELECT c.code, name, region, year, fertility_rate\n",
    "  -- From countries (alias as c)\n",
    "  FROM countries AS c\n",
    "  -- Join with populations (as p)\n",
    "  INNER JOIN populations AS p\n",
    "    -- Match on country code\n",
    "    ON c.code = p.country_code;"
   ]
  },
  {
   "cell_type": "markdown",
   "id": "cb90704e",
   "metadata": {},
   "source": [
    "-- Select fields\n",
    "SELECT c.code, name, region, e.year, fertility_rate,e.unemployment_rate\n",
    "  -- From countries (alias as c)\n",
    "  FROM countries AS c\n",
    "  -- Join to populations (as p)\n",
    "  INNER JOIN populations AS p\n",
    "    -- Match on country code\n",
    "    ON c.code = p.country_code\n",
    "  -- Join to economies (as e)\n",
    "  INNER JOIN economies AS e\n",
    "    -- Match on country code\n",
    "    ON c.code = e.code;"
   ]
  },
  {
   "cell_type": "code",
   "execution_count": null,
   "id": "59add245",
   "metadata": {},
   "outputs": [],
   "source": [
    "-- Select fields\n",
    "SELECT c.code, name, region, e.year, fertility_rate, unemployment_rate\n",
    "  -- From countries (alias as c)\n",
    "  FROM countries AS c\n",
    "  -- Join to populations (as p)\n",
    "  INNER JOIN populations AS p\n",
    "    -- Match on country code\n",
    "    ON c.code = p.country_code\n",
    "  -- Join to economies (as e)\n",
    "  INNER JOIN economies AS e\n",
    "    -- Match on country code and year\n",
    "    ON c.code=e.code AND e.year = p.year;"
   ]
  },
  {
   "cell_type": "markdown",
   "id": "ee705d1f",
   "metadata": {},
   "source": [
    "### Inner join with using\n",
    "When joining tables with a common field name, e.g.\n",
    "\n",
    "    SELECT *\n",
    "    FROM countries\n",
    "      INNER JOIN economies\n",
    "        ON countries.code = economies.code\n",
    "You can use USING as a shortcut:\n",
    "\n",
    "    SELECT *\n",
    "    FROM countries\n",
    "      INNER JOIN economies\n",
    "        USING(code)\n",
    "    You'll now explore how this can be done with the countries and languages tables.\n",
    "\n",
    "Instructions:\n",
    "* Inner join countries on the left and languages on the right with USING(code).\n",
    "* Select the fields corresponding to:\n",
    " * country name AS country,\n",
    " * continent name,\n",
    " * language name AS language, and\n",
    " * whether or not the language is official.\n",
    "* Remember to alias your tables using the first letter of their names."
   ]
  },
  {
   "cell_type": "code",
   "execution_count": null,
   "id": "6f9ef0a7",
   "metadata": {},
   "outputs": [],
   "source": [
    "-- Select fields\n",
    "SELECT c.name AS country, continent, l.name AS language, official\n",
    "  -- From countries (alias as c)\n",
    "  FROM countries AS c\n",
    "  -- Join to languages (as l)\n",
    "  INNER JOIN languages AS l\n",
    "    -- Match using code\n",
    "    USING(code);"
   ]
  },
  {
   "cell_type": "markdown",
   "id": "936d9221",
   "metadata": {},
   "source": [
    "### Self-join\n",
    "In this exercise, you'll use the populations table to perform a self-join to calculate the percentage increase in population from 2010 to 2015 for each country code!\n",
    "\n",
    "Since you'll be joining the populations table to itself, you can alias populations as p1 and also populations as p2. This is good practice whenever you are aliasing and your tables have the same first letter. Note that you are required to alias the tables with self-joins.\n",
    "\n",
    "Instructions:\n",
    "\n",
    "* Join populations with itself ON country_code.\n",
    "* Select the country_code from p1 and the size field from both p1 and p2. SQL won't allow same-named fields, so alias p1.size as size2010 and p2.size as size2015.\n",
    "\n",
    "\n",
    "* Notice from the result that for each country_code you have four entries laying out all combinations of 2010 and 2015.\n",
    "* Extend the ON in your query to include only those records where the p1.year (2010) matches with p2.year - 5 (2015 - 5 = 2010). This will omit the three entries per country_code that you aren't interested in.\n",
    "\n",
    "\n",
    "\n",
    "* As you just saw, you can also use SQL to calculate values like p2.year - 5 for you. With two fields like size2010 and size2015, you may want to determine the percentage increase from one field to the next:\n",
    "\n",
    "* With two numeric fields  and , the percentage growth from A to B can be calculated as (B - A) / A * 100.0.\n",
    "\n",
    "* Add a new field to SELECT, aliased as growth_perc, that calculates the percentage population growth from 2010 to 2015 for each country, using p2.size and p1.size.\n"
   ]
  },
  {
   "cell_type": "code",
   "execution_count": null,
   "id": "14e7dc82",
   "metadata": {},
   "outputs": [],
   "source": [
    "-- Select fields with aliases\n",
    "SELECT p1.country_code, p1.size AS size2020,p2.size AS size2015\n",
    "-- From populations (alias as p1)\n",
    "FROM populations AS p1\n",
    "  -- Join to itself (alias as p2)\n",
    "  INNER JOIN populations AS p2\n",
    "    -- Match on country code\n",
    "    ON p1.country_code=p2.country_code;"
   ]
  },
  {
   "cell_type": "code",
   "execution_count": null,
   "id": "8e61b93e",
   "metadata": {},
   "outputs": [],
   "source": [
    "-- Select fields with aliases\n",
    "SELECT p1.country_code,\n",
    "       p1.size AS size2010,\n",
    "       p2.size AS size2015\n",
    "-- From populations (alias as p1)\n",
    "FROM populations as p1\n",
    "  -- Join to itself (alias as p2)\n",
    "  INNER JOIN populations as p2\n",
    "    -- Match on country code\n",
    "    ON p1.country_code = p2.country_code\n",
    "        -- and year (with calculation)\n",
    "        AND p1.year = p2.year-5;"
   ]
  },
  {
   "cell_type": "code",
   "execution_count": null,
   "id": "ee9c413b",
   "metadata": {},
   "outputs": [],
   "source": [
    "-- Select fields with aliases\n",
    "SELECT p1.country_code,\n",
    "       p1.size AS size2010, \n",
    "       p2.size AS size2015,\n",
    "       -- Calculate growth_perc\n",
    "       ((p2.size - p1.size)/p1.size * 100.0) AS growth_perc\n",
    "-- From populations (alias as p1)\n",
    "FROM populations AS p1\n",
    "  -- Join to itself (alias as p2)\n",
    "  INNER JOIN populations AS p2\n",
    "    -- Match on country code\n",
    "    ON p1.country_code = p2.country_code\n",
    "        -- and year (with calculation)\n",
    "        AND p1.year = p2.year - 5;"
   ]
  },
  {
   "cell_type": "markdown",
   "id": "729b686d",
   "metadata": {},
   "source": [
    "### Case when and then\n",
    "Often it's useful to look at a numerical field not as raw data, but instead as being in different categories or groups.\n",
    "\n",
    "You can use CASE with WHEN, THEN, ELSE, and END to define a new grouping field.\n",
    "\n",
    "Instructions:\n",
    "* Using the countries table, create a new field AS geosize_group that groups the countries into three groups:\n",
    "\n",
    " * If surface_area is greater than 2 million, geosize_group is 'large'.\n",
    " * If surface_area is greater than 350 thousand but not larger than 2 million, geosize_group is 'medium'.\n",
    " * Otherwise, geosize_group is 'small'."
   ]
  },
  {
   "cell_type": "code",
   "execution_count": null,
   "id": "c78b9ceb",
   "metadata": {},
   "outputs": [],
   "source": [
    "SELECT name, continent, code, surface_area,\n",
    "    -- First case\n",
    "    CASE WHEN surface_area > 2000000 THEN 'large'\n",
    "        -- Second case\n",
    "        WHEN surface_area> 350000 THEN 'medium'\n",
    "        -- Else clause + end\n",
    "        ELSE 'small' END\n",
    "        -- Alias name\n",
    "        AS geosize_group\n",
    "-- From table\n",
    "FROM countries;"
   ]
  },
  {
   "cell_type": "markdown",
   "id": "7bfce68d",
   "metadata": {},
   "source": [
    "### Inner challenge\n",
    "The table you created with the added geosize_group field has been loaded for you here with the name countries_plus. Observe the use of (and the placement of) the INTO command to create this countries_plus table:\n",
    "\n",
    "    SELECT name, continent, code, surface_area,\n",
    "        CASE WHEN surface_area > 2000000\n",
    "                THEN 'large'\n",
    "           WHEN surface_area > 350000\n",
    "                THEN 'medium'\n",
    "           ELSE 'small' END\n",
    "           AS geosize_group\n",
    "    INTO countries_plus\n",
    "    FROM countries;\n",
    "You will now explore the relationship between the size of a country in terms of surface area and in terms of population using grouping fields created with CASE.\n",
    "\n",
    "By the end of this exercise, you'll be writing two queries back-to-back in a single script. You got this!\n",
    "\n",
    "Instructions:\n",
    "\n",
    "* Using the populations table focused only for the year 2015, create a new field aliased as popsize_group to organize population size into\n",
    "\n",
    " * 'large' (> 50 million),\n",
    " * 'medium' (> 1 million), and\n",
    " * 'small' groups.\n",
    "* Select only the country code, population size, and this new popsize_group as fields.\n",
    "\n",
    "\n",
    "* Use INTO to save the result of the previous query as pop_plus. You can see an example of this in the countries_plus code in the assignment text. Make sure to include a ; at the end of your WHERE clause!\n",
    "* Then, include another query below your first query to display all the records in pop_plus using SELECT * FROM pop_plus; so that you generate results and this will display pop_plus in the query result.\n",
    "\n",
    "\n",
    "* Keep the first query intact that creates pop_plus using INTO.\n",
    "* Write a query to join countries_plus AS c on the left with pop_plus AS p on the right matching on the country code fields.\n",
    "* Sort the data based on geosize_group, in ascending order so that large appears on top.\n",
    "* Select the name, continent, geosize_group, and popsize_group fields."
   ]
  },
  {
   "cell_type": "code",
   "execution_count": null,
   "id": "48537572",
   "metadata": {},
   "outputs": [],
   "source": [
    "SELECT country_code,size, \n",
    "    -- First case\n",
    "    CASE WHEN size> 50000000 THEN 'large'\n",
    "        -- Second case\n",
    "        WHEN size > 1000000 THEN 'medium'\n",
    "        -- Else clause + end\n",
    "        ELSE 'small' END\n",
    "        -- Alias name (popsize_group)\n",
    "        AS popsize_group\n",
    "-- From table\n",
    "FROM populations\n",
    "-- Focus on 2015\n",
    "WHERE year = 2015;"
   ]
  },
  {
   "cell_type": "code",
   "execution_count": null,
   "id": "ac185502",
   "metadata": {},
   "outputs": [],
   "source": [
    "SELECT country_code, size,\n",
    "    CASE WHEN size > 50000000 THEN 'large'\n",
    "        WHEN size > 1000000 THEN 'medium'\n",
    "        ELSE 'small' END\n",
    "        AS popsize_group\n",
    "-- Into table\n",
    "INTO pop_plus\n",
    "FROM populations\n",
    "WHERE year = 2015;\n",
    "\n",
    "-- Select all columns of pop_plus\n",
    "SELECT * FROM pop_plus"
   ]
  },
  {
   "cell_type": "markdown",
   "id": "a2be8f32",
   "metadata": {},
   "source": [
    "## Outer joins and cross joins\n",
    "In this chapter, you'll come to grips with different kinds of outer joins. You'll learn how to gain further insights into your data through left joins, right joins, and full joins. In addition to outer joins, you'll also work with cross joins."
   ]
  },
  {
   "cell_type": "markdown",
   "id": "2d85fb81",
   "metadata": {},
   "source": [
    "### Left Join\n",
    "Now you'll explore the differences between performing an inner join and a left join using the cities and countries tables.\n",
    "\n",
    "You'll begin by performing an inner join with the cities table on the left and the countries table on the right. Remember to alias the name of the city field as city and the name of the country field as country.\n",
    "\n",
    "You will then change the query to a left join. Take note of how many records are in each query here!\n",
    "\n",
    "Instructions:\n",
    "\n",
    "* Fill in the code based on the instructions in the code comments to complete the inner join. Note how many records are in the result of the join in the query result.\n",
    "\n",
    "\n",
    "* Change the code to perform a LEFT JOIN instead of an INNER JOIN. After executing this query, note how many records the query result contains.\n",
    "\n"
   ]
  },
  {
   "cell_type": "code",
   "execution_count": null,
   "id": "5fb66737",
   "metadata": {},
   "outputs": [],
   "source": [
    "-- Select the city name (with alias), the country code,\n",
    "-- the country name (with alias), the region,\n",
    "-- and the city proper population\n",
    "SELECT c1.name AS city, code, c2.name AS country,\n",
    "       region, city_proper_pop\n",
    "-- From left table (with alias)\n",
    "FROM cities AS c1\n",
    "  -- Join to right table (with alias)\n",
    "  INNER JOIN countries AS c2\n",
    "    -- Match on country code\n",
    "    ON c1.country_code = c2.code\n",
    "-- Order by descending country code\n",
    "ORDER BY code DESC;"
   ]
  },
  {
   "cell_type": "code",
   "execution_count": null,
   "id": "e1e354ed",
   "metadata": {},
   "outputs": [],
   "source": [
    "SELECT c1.name AS city, code, c2.name AS country,\n",
    "       region, city_proper_pop\n",
    "FROM cities AS c1\n",
    "  -- Join right table (with alias)\n",
    "  LEFT JOIN countries AS c2\n",
    "    -- Match on country code\n",
    "    ON c1.country_code = c2.code\n",
    "-- Order by descending country code\n",
    "ORDER BY code DESC;"
   ]
  },
  {
   "cell_type": "markdown",
   "id": "4228ed2b",
   "metadata": {},
   "source": [
    "### Left join (2)\n",
    "Next, you'll try out another example comparing an inner join to its corresponding left join. Before you begin though, take note of how many records are in both the countries and languages tables below.\n",
    "\n",
    "You will begin with an inner join on the countries table on the left with the languages table on the right. Then you'll change the code to a left join in the next bullet.\n",
    "\n",
    "Note the use of multi-line comments here using /* and */.\n",
    "\n",
    "Instructions:\n",
    "\n",
    "* Perform an inner join and alias the name of the country field as country and the name of the language field as language.\n",
    "* Sort based on descending country name.\n",
    "\n",
    "\n",
    "* Perform a left join instead of an inner join. Observe the result, and also note the change in the number of records in the result.\n",
    "* Carefully review which records appear in the left join result, but not in the inner join result.\n"
   ]
  },
  {
   "cell_type": "code",
   "execution_count": null,
   "id": "88ebe51c",
   "metadata": {},
   "outputs": [],
   "source": [
    "/*\n",
    "Select country name AS country, the country's local name,\n",
    "the language name AS language, and\n",
    "the percent of the language spoken in the country\n",
    "*/\n",
    "SELECT c.name AS country, local_name, l.name AS language, percent\n",
    "-- From left table (alias as c)\n",
    "FROM countries AS c\n",
    "  -- Join to right table (alias as l)\n",
    "  INNER JOIN languages AS l\n",
    "    -- Match on fields\n",
    "    ON c.code = l.code\n",
    "-- Order by descending country\n",
    "ORDER BY country DESC;"
   ]
  },
  {
   "cell_type": "code",
   "execution_count": null,
   "id": "a6f4cdad",
   "metadata": {},
   "outputs": [],
   "source": [
    "/*\n",
    "Select country name AS country, the country's local name,\n",
    "the language name AS language, and\n",
    "the percent of the language spoken in the country\n",
    "*/\n",
    "SELECT c.name AS country, local_name, l.name AS language, percent\n",
    "-- From left table (alias as c)\n",
    "FROM countries AS c\n",
    "  -- Join to right table (alias as l)\n",
    "  LEFT JOIN languages AS l\n",
    "    -- Match on fields\n",
    "    ON c.code = l.code\n",
    "-- Order by descending country\n",
    "ORDER BY country DESC;"
   ]
  },
  {
   "cell_type": "markdown",
   "id": "4f789bec",
   "metadata": {},
   "source": [
    "### Left join (3)\n",
    "You'll now revisit the use of the AVG() function introduced in our introductory SQL course. You will use it in combination with left join to determine the average gross domestic product (GDP) per capita by region in 2010.\n",
    "\n",
    "Instructions:\n",
    "\n",
    "* Begin with a left join with the countries table on the left and the economies table on the right.\n",
    "* Focus only on records with 2010 as the year.\n",
    "\n",
    "\n",
    "* Modify your code to calculate the average GDP per capita AS avg_gdp for each region in 2010.\n",
    "* Select the region and avg_gdp fields."
   ]
  },
  {
   "cell_type": "code",
   "execution_count": null,
   "id": "cd71c192",
   "metadata": {},
   "outputs": [],
   "source": [
    "-- Select name, region, and gdp_percapita\n",
    "SELECT name, region, gdp_percapita\n",
    "-- From countries (alias as c)\n",
    "FROM countries AS c\n",
    "  -- Left join with economies (alias as e)\n",
    "  LEFT JOIN economies AS e\n",
    "    -- Match on code fields\n",
    "    ON c.code = e.code\n",
    "-- Focus on 2010\n",
    "WHERE year = 2010;"
   ]
  },
  {
   "cell_type": "code",
   "execution_count": null,
   "id": "6fcbb3ac",
   "metadata": {},
   "outputs": [],
   "source": [
    "-- Select fields\n",
    "SELECT region, AVG(gdp_percapita) AS avg_gdp\n",
    "-- From countries (alias as c)\n",
    "FROM countries AS c\n",
    "  -- Left join with economies (alias as e)\n",
    "  LEFT JOIN economies AS e\n",
    "    -- Match on code fields\n",
    "    ON c.code = e.code\n",
    "-- Focus on 2010\n",
    "WHERE year = 2010\n",
    "-- Group by region\n",
    "GROUP BY region;"
   ]
  },
  {
   "cell_type": "code",
   "execution_count": null,
   "id": "bf238bac",
   "metadata": {},
   "outputs": [],
   "source": [
    "-- Select fields\n",
    "SELECT region, AVG(gdp_percapita) AS avg_gdp\n",
    "-- From countries (alias as c)\n",
    "FROM countries AS c\n",
    "  -- Left join with economies (alias as e)\n",
    "  LEFT JOIN economies AS e\n",
    "    -- Match on code fields\n",
    "    ON c.code = e.code\n",
    "-- Focus on 2010\n",
    "WHERE year =2010\n",
    "-- Group by region\n",
    "GROUP BY region\n",
    "-- Order by descending avg_gdp\n",
    "ORDER BY avg_gdp DESC;"
   ]
  },
  {
   "cell_type": "markdown",
   "id": "d494f36f",
   "metadata": {},
   "source": [
    "### Right join\n",
    "Right joins aren't as common as left joins. One reason why is that you can always write a right join as a left join.\n",
    "\n",
    "Instructions:\n",
    "\n",
    "* The left join code is commented out here. Your task is to write a new query using rights joins that produces the same result as what the query using left joins produces. Keep this left joins code commented as you write your own query just below it using right joins to solve the problem.\n",
    "* Note the order of the joins matters in your conversion to using right joins!"
   ]
  },
  {
   "cell_type": "code",
   "execution_count": null,
   "id": "c08a214b",
   "metadata": {},
   "outputs": [],
   "source": [
    "-- convert this code to use RIGHT JOINs instead of LEFT JOINs\n",
    "/*\n",
    "SELECT cities.name AS city, urbanarea_pop, countries.name AS country,\n",
    "       indep_year, languages.name AS language, percent\n",
    "FROM cities\n",
    "  LEFT JOIN countries\n",
    "    ON cities.country_code = countries.code\n",
    "  LEFT JOIN languages\n",
    "    ON countries.code = languages.code\n",
    "ORDER BY city, language;\n",
    "*/\n",
    "\n",
    "SELECT cities.name AS city, urbanarea_pop, countries.name AS country,\n",
    "       indep_year, languages.name AS language, percent\n",
    "FROM languages\n",
    "  RIGHT JOIN countries\n",
    "    ON languages.code = countries.code\n",
    "  RIGHT JOIN cities\n",
    "    ON countries.code = cities.country_code\n",
    "ORDER BY city, language;"
   ]
  },
  {
   "cell_type": "markdown",
   "id": "62c77a01",
   "metadata": {},
   "source": [
    "### Full join\n",
    "In this exercise, you'll examine how your results differ when using a full join versus using a left join versus using an inner join with the countries and currencies tables.\n",
    "\n",
    "You will focus on the North American region and also where the name of the country is missing. Dig in to see what we mean!\n",
    "\n",
    "Begin with a full join with countries on the left and currencies on the right. The fields of interest have been SELECTed for you throughout this exercise.\n",
    "\n",
    "Then complete a similar left join and conclude with an inner join.\n",
    "\n",
    "Instructions:\n",
    "\n",
    "* Choose records in which region corresponds to North America or is NULL.\n",
    "\n",
    "* Repeat the same query as before, using a LEFT JOIN instead of a FULL JOIN. Note what has changed compared to the FULL JOIN result!\n",
    "\n",
    "* Repeat the same query again but use an INNER JOIN instead of a FULL JOIN. Note what has changed compared to the FULL JOIN and LEFT JOIN results!"
   ]
  },
  {
   "cell_type": "code",
   "execution_count": null,
   "id": "2444d744",
   "metadata": {},
   "outputs": [],
   "source": [
    "SELECT name AS country, code, region, basic_unit\n",
    "-- From countries\n",
    "FROM countries\n",
    "  -- Join to currencies\n",
    "  FULL JOIN currencies\n",
    "    -- Match on code\n",
    "    USING (code)\n",
    "-- Where region is North America or null\n",
    "WHERE region = 'North America' OR region IS NULL\n",
    "-- Order by region\n",
    "ORDER BY region;"
   ]
  },
  {
   "cell_type": "code",
   "execution_count": null,
   "id": "a9df2a75",
   "metadata": {},
   "outputs": [],
   "source": [
    "SELECT name AS country, code, region, basic_unit\n",
    "-- From countries\n",
    "FROM countries\n",
    "  -- Join to currencies\n",
    "  LEFT JOIN currencies\n",
    "    -- Match on code\n",
    "    USING (code)\n",
    "-- Where region is North America or null\n",
    "WHERE region = 'North America' OR region IS NULL\n",
    "-- Order by region\n",
    "ORDER BY region;"
   ]
  },
  {
   "cell_type": "code",
   "execution_count": null,
   "id": "261af58a",
   "metadata": {},
   "outputs": [],
   "source": [
    "SELECT name AS country, code, region, basic_unit\n",
    "-- From countries\n",
    "FROM countries\n",
    "  -- Join to currencies\n",
    "  INNER JOIN currencies\n",
    "    -- Match on code\n",
    "    USING (code)\n",
    "-- Where region is North America or null\n",
    "WHERE region = 'North America' OR region IS NULL\n",
    "-- Order by region\n",
    "ORDER BY region;"
   ]
  },
  {
   "cell_type": "markdown",
   "id": "a4e1e9aa",
   "metadata": {},
   "source": [
    "### Full join (2)\n",
    "You'll now investigate a similar exercise to the last one, but this time focused on using a table with more records on the left than the right. You'll work with the languages and countries tables.\n",
    "\n",
    "Begin with a full join with languages on the left and countries on the right. Appropriate fields have been selected for you again here.\n",
    "\n",
    "Instructions:\n",
    "\n",
    "* Choose records in which countries.name starts with the capital letter 'V' or is NULL.\n",
    "* Arrange by countries.name in ascending order to more clearly see the results.\n",
    "\n",
    "\n",
    "* Repeat the same query as before, using a LEFT JOIN instead of a FULL JOIN. Note what has changed compared to the FULL JOIN result!\n",
    "\n",
    "\n",
    "* Repeat once more, but use an INNER JOIN instead of a LEFT JOIN. Note what has changed compared to the FULL JOIN and LEFT JOIN results."
   ]
  },
  {
   "cell_type": "code",
   "execution_count": null,
   "id": "c810156e",
   "metadata": {},
   "outputs": [],
   "source": [
    "SELECT countries.name, code, languages.name AS language\n",
    "-- From languages\n",
    "FROM languages\n",
    "  -- Join to countries\n",
    "  FULL JOIN countries\n",
    "    -- Match on code\n",
    "    USING (code)\n",
    "-- Where countries.name starts with V or is null\n",
    "WHERE countries.name LIKE 'V%' OR countries.name IS NULL\n",
    "-- Order by ascending countries.name\n",
    "ORDER BY countries.name;"
   ]
  },
  {
   "cell_type": "code",
   "execution_count": null,
   "id": "6174e7f7",
   "metadata": {},
   "outputs": [],
   "source": [
    "SELECT countries.name, code, languages.name AS language\n",
    "-- From languages\n",
    "FROM languages\n",
    "  -- Join to countries\n",
    "  LEFT JOIN countries\n",
    "    -- Match on code\n",
    "    USING (code)\n",
    "-- Where countries.name starts with V or is null\n",
    "WHERE countries.name LIKE 'V%' OR countries.name IS NULL\n",
    "-- Order by ascending countries.name\n",
    "ORDER BY countries.name;"
   ]
  },
  {
   "cell_type": "code",
   "execution_count": null,
   "id": "a67abb94",
   "metadata": {},
   "outputs": [],
   "source": [
    "SELECT countries.name, code, languages.name AS language\n",
    "-- From languages\n",
    "FROM languages\n",
    "  -- Join to countries\n",
    "  INNER JOIN countries\n",
    "    -- Match using code\n",
    "    USING (code)\n",
    "-- Where countries.name starts with V or is null\n",
    "WHERE countries.name LIKE 'V%' OR countries.name IS NULL\n",
    "-- Order by ascending countries.name\n",
    "ORDER BY countries.name;"
   ]
  },
  {
   "cell_type": "markdown",
   "id": "8924c6e3",
   "metadata": {},
   "source": [
    "### Full join (3)\n",
    "You'll now explore using two consecutive full joins on the three tables you worked with in the previous two exercises.\n",
    "\n",
    "Instructions:\n",
    "\n",
    "* Complete a full join with countries on the left and languages on the right.\n",
    "* Next, full join this result with currencies on the right.\n",
    "* Use LIKE to choose the Melanesia and Micronesia regions (Hint: 'M%esia').\n",
    "* Select the fields corresponding to the country name AS country, region, language name AS language, and basic and fractional units of currency."
   ]
  },
  {
   "cell_type": "code",
   "execution_count": null,
   "id": "2d02b3fd",
   "metadata": {},
   "outputs": [],
   "source": [
    "-- Select fields (with aliases)\n",
    "SELECT c1.name AS country, region,l.name AS language, basic_unit, frac_unit\n",
    "-- From countries (alias as c1)\n",
    "FROM countries AS c1\n",
    "  -- Join with languages (alias as l)\n",
    "  FULL JOIN languages AS l\n",
    "    -- Match on code\n",
    "    USING (code)\n",
    "  -- Join with currencies (alias as c2)\n",
    "  FULL JOIN currencies AS c2\n",
    "    -- Match on code\n",
    "    USING (code)\n",
    "-- Where region like Melanesia and Micronesia\n",
    "WHERE region LIKE 'M%esia';"
   ]
  },
  {
   "cell_type": "markdown",
   "id": "161889f8",
   "metadata": {},
   "source": [
    "### A table of two cities\n",
    "This exercise looks to explore languages potentially and most frequently spoken in the cities of Hyderabad, India and Hyderabad, Pakistan.\n",
    "\n",
    "Instructions:\n",
    "* Create a CROSS JOIN with cities AS c on the left and languages AS l on the right.\n",
    "* Make use of LIKE and Hyder% to choose Hyderabad in both countries.\n",
    "* Select only the city name AS city and language name AS language.\n",
    "\n",
    "\n",
    "* Use an INNER JOIN instead of a CROSS JOIN. Think about what the difference will be in the results for this INNER JOIN result and the one for the CROSS JOIN"
   ]
  },
  {
   "cell_type": "code",
   "execution_count": null,
   "id": "23668e3a",
   "metadata": {},
   "outputs": [],
   "source": [
    "-- Select fields\n",
    "SELECT c.name AS city, l.name AS language\n",
    "-- From cities (alias as c)\n",
    "FROM cities AS c        \n",
    "  -- Join to languages (alias as l)\n",
    "  CROSS JOIN languages AS l\n",
    "-- Where c.name like Hyderabad\n",
    "WHERE c.name LIKE 'Hyder%';"
   ]
  },
  {
   "cell_type": "code",
   "execution_count": null,
   "id": "21d9efc1",
   "metadata": {},
   "outputs": [],
   "source": [
    "-- Select fields\n",
    "SELECT c.name AS city, l.name AS language\n",
    "-- From cities (alias as c)\n",
    "FROM cities AS c        \n",
    "  -- Join to languages (alias as l)\n",
    "  INNER JOIN languages AS l\n",
    "    -- Match on country code\n",
    "    ON c.country_code = l.code\n",
    "-- Where c.name like Hyderabad\n",
    "WHERE c.name LIKE 'Hyder%';\n"
   ]
  },
  {
   "cell_type": "markdown",
   "id": "1c056cde",
   "metadata": {},
   "source": [
    "### Outer challenge\n",
    "Now that you're fully equipped to use OUTER JOINs, try a challenge problem to test your knowledge!\n",
    "\n",
    "In terms of life expectancy for 2010, determine the names of the lowest five countries and their regions.\n",
    "\n",
    "Instructions:\n",
    "\n",
    "* Select country name AS country, region, and life expectancy AS life_exp.\n",
    "* Make sure to use LEFT JOIN, WHERE, ORDER BY, and LIMIT."
   ]
  },
  {
   "cell_type": "code",
   "execution_count": null,
   "id": "8ab26a61",
   "metadata": {},
   "outputs": [],
   "source": [
    "-- Select fields\n",
    "SELECT c.name AS country, region, p.life_expectancy AS life_exp\n",
    "-- From countries (alias as c)\n",
    "FROM countries as c\n",
    "  -- Join to populations (alias as p)\n",
    "  LEFT JOIN populations AS p\n",
    "    -- Match on country code\n",
    "    ON c.code = p.country_code\n",
    "-- Focus on 2010\n",
    "WHERE year=2010\n",
    "-- Order by life_exp\n",
    "ORDER BY life_exp\n",
    "-- Limit to 5 records\n",
    "LIMIT 5;"
   ]
  },
  {
   "cell_type": "markdown",
   "id": "29d24062",
   "metadata": {},
   "source": [
    "## Set theory clauses\n",
    "In this chapter, you'll learn more about set theory using Venn diagrams and get an introduction to union, union all, intersect, and except clauses. You'll finish by investigating semi joins and anti joins, which provide a nice introduction to subqueries."
   ]
  },
  {
   "cell_type": "markdown",
   "id": "c45d41a0",
   "metadata": {},
   "source": [
    "### Union\n",
    "You have two new tables, economies2010 and economies2015, available to you. The economies table is also included for reference.\n",
    "\n",
    "Instructions:\n",
    "\n",
    "* Combine the two new tables into one table containing all of the fields in economies2010.\n",
    "* Sort this resulting single table by country code and then by year, both in ascending order.\n",
    "\n"
   ]
  },
  {
   "cell_type": "code",
   "execution_count": null,
   "id": "d18fabff",
   "metadata": {},
   "outputs": [],
   "source": [
    "-- Select fields from 2010 table\n",
    "SELECT *\n",
    "  -- From 2010 table\n",
    "  FROM economies2010\n",
    "    -- Set theory clause\n",
    "    UNION\n",
    "-- Select fields from 2015 table\n",
    "SELECT *\n",
    "  -- From 2015 table\n",
    "  FROM economies2015\n",
    "-- Order by code and year\n",
    "ORDER BY code, year;"
   ]
  },
  {
   "cell_type": "markdown",
   "id": "5610cc7b",
   "metadata": {},
   "source": [
    "### Union (2)\n",
    "UNION can also be used to determine all occurrences of a field across multiple tables. Try out this exercise with no starter code.\n",
    "\n",
    "Instructions:\n",
    "\n",
    "* Determine all (non-duplicated) country codes in either the cities or the currencies table. The result should be a table with only one field called country_code.\n",
    "* Sort by country_code in alphabetical order."
   ]
  },
  {
   "cell_type": "code",
   "execution_count": null,
   "id": "9b85fa05",
   "metadata": {},
   "outputs": [],
   "source": [
    "-- Select field\n",
    "SELECT country_code\n",
    "  -- From cities\n",
    "  FROM cities\n",
    "\t-- Set theory clause\n",
    "\tUNION\n",
    "-- Select field\n",
    "SELECT code\n",
    "  -- From currencies\n",
    "  FROM currencies\n",
    "-- Order by country_code\n",
    "ORDER BY country_code;"
   ]
  },
  {
   "cell_type": "markdown",
   "id": "33e08df9",
   "metadata": {},
   "source": [
    "### Union all\n",
    "As you saw, duplicates were removed from the previous two exercises by using UNION.\n",
    "\n",
    "To include duplicates, you can use UNION ALL.\n",
    "\n",
    "Instructions:\n",
    "\n",
    "* Determine all combinations (include duplicates) of country code and year that exist in either the economies or the populations tables. Order by code then year.\n",
    "* The result of the query should only have two columns/fields. Think about how many records this query should result in.\n",
    "* You'll use code very similar to this in your next exercise after the video. Make note of this code after completing it."
   ]
  },
  {
   "cell_type": "code",
   "execution_count": null,
   "id": "a270a3b6",
   "metadata": {},
   "outputs": [],
   "source": [
    "-- Select fields\n",
    "SELECT code, year\n",
    "  -- From economies\n",
    "  FROM economies\n",
    "\t-- Set theory clause\n",
    "\tUNION ALL\n",
    "-- Select fields\n",
    "SELECT country_code, year\n",
    "  -- From populations\n",
    "  FROM populations\n",
    "-- Order by code, year\n",
    "ORDER BY code, year;"
   ]
  },
  {
   "cell_type": "markdown",
   "id": "a3cbffe0",
   "metadata": {},
   "source": [
    "### Intersect\n",
    "UNION ALL will extract all records from two tables, while INTERSECT will only return records that both tables have in common. In this exercise, you will create a similar query as before, however, this time you will look at the records in common for country code and year for the economies and populations tables.\n",
    "\n",
    "Note the number of records from the result of this query compared to the similar UNION ALL query result of 814 records.\n",
    "\n",
    "Instructions:\n",
    "\n",
    "* Use INTERSECT to determine the records in common for country code and year for the economies and populations tables.\n",
    "* Again, order by code and then by year, both in ascending order."
   ]
  },
  {
   "cell_type": "code",
   "execution_count": null,
   "id": "f15627b8",
   "metadata": {},
   "outputs": [],
   "source": [
    "-- Select fields\n",
    "SELECT code,year\n",
    "  -- From economies\n",
    "  FROM economies\n",
    "\t-- Set theory clause\n",
    "\tINTERSECT\n",
    "-- Select fields\n",
    "SELECT country_code,year\n",
    "  -- From populations\n",
    "  FROM populations\n",
    "-- Order by code and year\n",
    "ORDER BY code,year;"
   ]
  },
  {
   "cell_type": "markdown",
   "id": "83a00a36",
   "metadata": {},
   "source": [
    "### Intersect (2)\n",
    "As you think about major world cities and their corresponding country, you may ask which countries also have a city with the same name as their country name?\n",
    "\n",
    "Instructions:\n",
    "    \n",
    "* Use INTERSECT to answer this question with countries and cities!"
   ]
  },
  {
   "cell_type": "code",
   "execution_count": null,
   "id": "5740796c",
   "metadata": {},
   "outputs": [],
   "source": [
    "-- Select fields\n",
    "SELECT name\n",
    "  -- From countries\n",
    "  FROM countries\n",
    "\t-- Set theory clause\n",
    "\tINTERSECT\n",
    "-- Select fields\n",
    "SELECT name\n",
    "  -- From cities\n",
    "  FROM cities\n",
    "-- Order by code and year\n",
    "ORDER BY name;"
   ]
  },
  {
   "cell_type": "markdown",
   "id": "d52393e8",
   "metadata": {},
   "source": [
    "### Except\n",
    "Get the names of cities in cities which are not noted as capital cities in countries as a single field result.\n",
    "\n",
    "Note that there are some countries in the world that are not included in the countries table, which will result in some cities not being labeled as capital cities when in fact they are.\n",
    "\n",
    "Instructions:\n",
    "\n",
    "* Order the resulting field in ascending order.\n",
    "* Can you spot the city/cities that are actually capital cities which this query misses?"
   ]
  },
  {
   "cell_type": "code",
   "execution_count": null,
   "id": "cbfc5a8d",
   "metadata": {},
   "outputs": [],
   "source": [
    "-- Select field\n",
    "SELECT name\n",
    "  -- From cities\n",
    "  FROM cities\n",
    "\t-- Set theory clause\n",
    "\tEXCEPT\n",
    "-- Select field\n",
    "SELECT capital\n",
    "  -- From countries\n",
    "  FROM countries\n",
    "-- Order by result\n",
    "ORDER BY name;"
   ]
  },
  {
   "cell_type": "markdown",
   "id": "e402b262",
   "metadata": {},
   "source": [
    "### Except (2)\n",
    "Now you will complete the previous query in reverse!\n",
    "\n",
    "Determine the names of capital cities that are not listed in the cities table.\n",
    "\n",
    "Instructions:\n",
    "\n",
    "* Order by capital in ascending order.\n",
    "* The cities table contains information about 236 of the world's most populous cities. The result of your query may surprise you in terms of the number of capital cities that do not appear in this list!"
   ]
  },
  {
   "cell_type": "code",
   "execution_count": null,
   "id": "abfe5dbc",
   "metadata": {},
   "outputs": [],
   "source": [
    "-- Select field\n",
    "SELECT capital\n",
    "  -- From countries\n",
    "  FROM countries\n",
    "\t-- Set theory clause\n",
    "\tEXCEPT\n",
    "-- Select field\n",
    "SELECT name\n",
    "  -- From cities\n",
    "  FROM cities\n",
    "-- Order by ascending capital\n",
    "ORDER BY capital;"
   ]
  },
  {
   "cell_type": "markdown",
   "id": "1aee05d0",
   "metadata": {},
   "source": [
    "### Semi-join\n",
    "You are now going to use the concept of a semi-join to identify languages spoken in the Middle East.\n",
    "\n",
    "Instructions:\n",
    "\n",
    "* Begin by selecting all country codes in the Middle East as a single field result using SELECT, FROM, and WHERE.\n",
    "\n",
    "\n",
    "* Below the commented code, select only unique languages by name appearing in the languages table.\n",
    "* Order the resulting single field table by name in ascending order.\n",
    "\n",
    "\n",
    "* Combine the previous two queries into one query by adding a WHERE IN statement to the SELECT DISTINCT query to determine the unique languages spoken in the Middle East.\n",
    "* Order the result by name in ascending order."
   ]
  },
  {
   "cell_type": "code",
   "execution_count": null,
   "id": "92ddaa6d",
   "metadata": {},
   "outputs": [],
   "source": [
    "-- Select code\n",
    "SELECT code\n",
    "  -- From countries\n",
    "  FROM countries\n",
    "-- Where region is Middle East\n",
    "WHERE region = 'Middle East';"
   ]
  },
  {
   "cell_type": "code",
   "execution_count": null,
   "id": "60e5521b",
   "metadata": {},
   "outputs": [],
   "source": [
    "-- Query from step 1:\n",
    "/*\n",
    "SELECT code\n",
    "  FROM countries\n",
    "WHERE region = 'Middle East';\n",
    "*/\n",
    "\n",
    "-- Select field\n",
    "SELECT DISTINCT name\n",
    "  -- From languages\n",
    "  FROM languages\n",
    "-- Order by name\n",
    "ORDER BY name;"
   ]
  },
  {
   "cell_type": "code",
   "execution_count": null,
   "id": "073c1f51",
   "metadata": {},
   "outputs": [],
   "source": [
    "-- Query from step 2\n",
    "SELECT DISTINCT name\n",
    "  FROM languages\n",
    "-- Where in statement\n",
    "WHERE code IN\n",
    "  -- Query from step 1\n",
    "  -- Subquery\n",
    "  (SELECT code\n",
    "   FROM countries\n",
    "   WHERE region = 'Middle East')\n",
    "-- Order by name\n",
    "ORDER BY name;"
   ]
  },
  {
   "cell_type": "markdown",
   "id": "aa0b9307",
   "metadata": {},
   "source": [
    "### Diagnosing problems using anti-join\n",
    "Another powerful join in SQL is the anti-join. It is particularly useful in identifying which records are causing an incorrect number of records to appear in join queries.\n",
    "\n",
    "You will also see another example of a subquery here, as you saw in the first exercise on semi-joins. Your goal is to identify the currencies used in Oceanian countries!\n",
    "\n",
    "Instructions:\n",
    "\n",
    "* Begin by determining the number of countries in countries that are listed in Oceania using SELECT, FROM, and WHERE.\n",
    "\n",
    "\n",
    "\n",
    "\n",
    "* Complete an inner join with countries AS c1 on the left and currencies AS c2 on the right to get the different currencies used in the countries of Oceania.\n",
    "* Match ON the code field in the two tables.\n",
    "* Include the country code, country name, and basic_unit AS currency.\n",
    "* Observe the query result and make note of how many different countries are listed here.\n",
    "\n",
    "\n",
    "\n",
    "* Note that not all countries in Oceania were listed in the resulting inner join with currencies. Use an anti-join to determine which countries were not included!\n",
    "\n",
    "* Use NOT IN and (SELECT code FROM currencies) as a subquery to get the country code and country name for the Oceanian countries that are not included in the currencies table.\n"
   ]
  },
  {
   "cell_type": "code",
   "execution_count": null,
   "id": "21fc28d5",
   "metadata": {},
   "outputs": [],
   "source": [
    "-- Select statement\n",
    "SELECT COUNT(code)\n",
    "  -- From countries\n",
    "  FROM countries\n",
    "-- Where continent is Oceania\n",
    "WHERE code IN(\n",
    "  SELECT code \n",
    "  FROM countries\n",
    "  WHERE continent = 'Oceania'\n",
    ");"
   ]
  },
  {
   "cell_type": "code",
   "execution_count": null,
   "id": "e27a35af",
   "metadata": {},
   "outputs": [],
   "source": [
    "-- Select fields (with aliases)\n",
    "SELECT c1.code, name, basic_unit AS currency\n",
    "  -- From countries (alias as c1)\n",
    "  FROM countries AS c1\n",
    "  \t-- Join with currencies (alias as c2)\n",
    "  \tINNER JOIN currencies AS c2\n",
    "    -- Match on code\n",
    "    ON c1.code = c2.code\n",
    "-- Where continent is Oceania\n",
    "WHERE c1.continent = 'Oceania';"
   ]
  },
  {
   "cell_type": "code",
   "execution_count": null,
   "id": "6905c598",
   "metadata": {},
   "outputs": [],
   "source": [
    "-- Select fields\n",
    "SELECT code, name\n",
    "  -- From Countries\n",
    "  FROM countries\n",
    "  -- Where continent is Oceania\n",
    "  WHERE continent = 'Oceania'\n",
    "  \t-- And code not in\n",
    "  \tAND code NOT IN\n",
    "  \t-- Subquery\n",
    "  \t(SELECT code\n",
    "  \t FROM currencies);"
   ]
  },
  {
   "cell_type": "markdown",
   "id": "7811978e",
   "metadata": {},
   "source": [
    "### Set theory challenge\n",
    "Congratulations! You've now made your way to the challenge problem for this third chapter. Your task here will be to incorporate two of UNION/UNION ALL/INTERSECT/EXCEPT to solve a challenge involving three tables.\n",
    "\n",
    "In addition, you will use a subquery as you have in the last two exercises! This will be great practice as you hop into subqueries more in Chapter 4!\n",
    "\n",
    "Instructions:\n",
    "\n",
    "* Identify the country codes that are included in either economies or currencies but not in populations.\n",
    "* Use that result to determine the names of cities in the countries that match the specification in the previous instruction."
   ]
  },
  {
   "cell_type": "code",
   "execution_count": null,
   "id": "d2a12d07",
   "metadata": {},
   "outputs": [],
   "source": [
    "Set theory challenge\n",
    "Congratulations! You've now made your way to the challenge problem for this third chapter. Your task here will be to incorporate two of UNION/UNION ALL/INTERSECT/EXCEPT to solve a challenge involving three tables.\n",
    "\n",
    "In addition, you will use a subquery as you have in the last two exercises! This will be great practice as you hop into subqueries more in Chapter 4!\n",
    "\n",
    "Instructions\n",
    "0 XP\n",
    "Identify the country codes that are included in either economies or currencies but not in populations.\n",
    "Use that result to determine the names of cities in the countries that match the specification in the previous instruction.\n",
    "\n"
   ]
  },
  {
   "cell_type": "markdown",
   "id": "a07986fb",
   "metadata": {},
   "source": [
    "## Subqueries\n",
    "In this closing chapter, you'll learn how to use nested queries and you'll use what you’ve learned in this course to solve three challenge problems."
   ]
  },
  {
   "cell_type": "markdown",
   "id": "2fa77508",
   "metadata": {},
   "source": [
    "### Subquery inside where\n",
    "You'll now try to figure out which countries had high average life expectancies (at the country level) in 2015.\n",
    "\n",
    "Instructions:\n",
    "\n",
    "* Begin by calculating the average life expectancy across all countries for 2015.\n",
    "\n",
    "\n",
    "\n",
    "* Recall that you can use SQL to do calculations for you. Suppose we wanted only records that were above 1.15 * 100 in terms of life expectancy for 2015:\n",
    "\n",
    "    SELECT *\n",
    "      FROM populations\n",
    "    WHERE life_expectancy > 1.15 * 100\n",
    "      AND year = 2015;\n",
    "      \n",
    "* Select all fields from populations with records corresponding to larger than 1.15 times the average you calculated in the first task for 2015. In other words, change the 100 in the example above with a subquery."
   ]
  },
  {
   "cell_type": "code",
   "execution_count": null,
   "id": "51a92f6b",
   "metadata": {},
   "outputs": [],
   "source": [
    "-- Select average life_expectancy\n",
    "SELECT AVG(life_expectancy)\n",
    "  -- From populations\n",
    "  FROM populations\n",
    "-- Where year is 2015\n",
    "WHERE year = '2015';"
   ]
  },
  {
   "cell_type": "code",
   "execution_count": null,
   "id": "0f6f8153",
   "metadata": {},
   "outputs": [],
   "source": [
    "-- Select fields\n",
    "SELECT *\n",
    "  -- From populations\n",
    "  FROM populations\n",
    "-- Where life_expectancy is greater than\n",
    "WHERE life_expectancy >\n",
    "  -- 1.15 * subquery\n",
    "  1.15 * (SELECT AVG(life_expectancy)\n",
    "   FROM populations\n",
    "   WHERE year = 2015) AND\n",
    "  year = 2015;"
   ]
  },
  {
   "cell_type": "markdown",
   "id": "efdb82fb",
   "metadata": {},
   "source": [
    "### Subquery inside where (2)\n",
    "Use your knowledge of subqueries in WHERE to get the urban area population for only capital cities.\n",
    "\n",
    "Instructions:\n",
    "\n",
    "* Make use of the capital field in the countries table in your subquery.\n",
    "* Select the city name, country code, and urban area population fields."
   ]
  },
  {
   "cell_type": "code",
   "execution_count": null,
   "id": "6db5bf18",
   "metadata": {},
   "outputs": [],
   "source": [
    "-- Select fields\n",
    "SELECT name, country_code, urbanarea_pop\n",
    "  -- From cities\n",
    "  FROM cities\n",
    "-- Where city name in the field of capital cities\n",
    "WHERE name IN\n",
    "  -- Subquery\n",
    "  (SELECT capital\n",
    "   FROM countries)\n",
    "ORDER BY urbanarea_pop DESC;"
   ]
  },
  {
   "cell_type": "markdown",
   "id": "3ac639b0",
   "metadata": {},
   "source": [
    "### Subquery inside select\n",
    "In this exercise, you'll see how some queries can be written using either a join or a subquery.\n",
    "\n",
    "You have seen previously how to use GROUP BY with aggregate functions and an inner join to get summarized information from multiple tables.\n",
    "\n",
    "The code given in the first query selects the top nine countries in terms of number of cities appearing in the cities table. Recall that this corresponds to the most populous cities in the world. Your task will be to convert the second query to get the same result as the provided code.\n",
    "\n",
    "Instructions:\n",
    "\n",
    "* Submit the code to view the result of the provided query.\n",
    "\n",
    "\n",
    "* Again, sort the result by cities_num descending and then by country ascending."
   ]
  },
  {
   "cell_type": "code",
   "execution_count": null,
   "id": "b09b3478",
   "metadata": {},
   "outputs": [],
   "source": [
    "SELECT countries.name AS country, COUNT(*) AS cities_num\n",
    "  FROM cities\n",
    "    INNER JOIN countries\n",
    "    ON countries.code = cities.country_code\n",
    "GROUP BY country\n",
    "ORDER BY cities_num DESC, country\n",
    "LIMIT 9;"
   ]
  },
  {
   "cell_type": "code",
   "execution_count": null,
   "id": "2d3cf848",
   "metadata": {},
   "outputs": [],
   "source": [
    "/*\n",
    "SELECT countries.name AS country, COUNT(*) AS cities_num\n",
    "  FROM cities\n",
    "    INNER JOIN countries\n",
    "    ON countries.code = cities.country_code\n",
    "GROUP BY country\n",
    "ORDER BY cities_num DESC, country\n",
    "LIMIT 9;\n",
    "*/\n",
    "\n",
    "SELECT countries.name AS country,\n",
    "  -- Subquery\n",
    "  (SELECT COUNT(*)\n",
    "   FROM cities\n",
    "   WHERE countries.code = cities.country_code) AS cities_num\n",
    "FROM countries\n",
    "ORDER BY cities_num DESC, country\n",
    "LIMIT 9;"
   ]
  },
  {
   "cell_type": "markdown",
   "id": "83d3c819",
   "metadata": {},
   "source": [
    "### Subquery inside from\n",
    "The last type of subquery you will work with is one inside of FROM.\n",
    "\n",
    "You will use this to determine the number of languages spoken for each country, identified by the country's local name! (Note this may be different than the name field and is stored in the local_name field.)\n",
    "\n",
    "Instructions:\n",
    "\n",
    "* Begin by determining for each country code how many languages are listed in the languages table using SELECT, FROM, and GROUP BY.\n",
    "* Alias the aggregated field as lang_num.\n",
    "\n",
    "\n",
    "* Include the previous query (aliased as subquery) as a subquery in the FROM clause of a new query.\n",
    "* Select the local name of the country from countries.\n",
    "* Also, select lang_num from subquery.\n",
    "* Make sure to use WHERE appropriately to match code in countries and in subquery.\n",
    "* Sort by lang_num in descending order.\n",
    "\n",
    "\n",
    "\n"
   ]
  },
  {
   "cell_type": "code",
   "execution_count": null,
   "id": "e719c6e8",
   "metadata": {},
   "outputs": [],
   "source": [
    "-- Select fields (with aliases)\n",
    "SELECT code, COUNT(*) AS lang_num\n",
    "  -- From languages\n",
    "  FROM languages\n",
    "-- Group by code\n",
    "GROUP BY code;"
   ]
  },
  {
   "cell_type": "code",
   "execution_count": null,
   "id": "46c9facb",
   "metadata": {},
   "outputs": [],
   "source": [
    "SELECT local_name, subquery.lang_num\n",
    "  FROM countries,\n",
    "  \t(SELECT code, COUNT(*) AS lang_num\n",
    "  \t FROM languages\n",
    "  \t GROUP BY code) AS subquery\n",
    "  WHERE countries.code = subquery.code\n",
    "ORDER BY lang_num DESC;"
   ]
  },
  {
   "cell_type": "markdown",
   "id": "0a3ce43a",
   "metadata": {},
   "source": [
    "### Advanced subquery\n",
    "You can also nest multiple subqueries to answer even more specific questions.\n",
    "\n",
    "In this exercise, for each of the six continents listed in 2015, you'll identify which country had the maximum inflation rate, and how high it was, using multiple subqueries. The table result of your final query should look something like the following, where anything between < > will be filled in with appropriate values:\n",
    "\n",
    "    +------------+---------------+-------------------+\n",
    "    | name       | continent     | inflation_rate    |\n",
    "    |------------+---------------+-------------------|\n",
    "    | <country1> | North America | <max_inflation1>  |\n",
    "    | <country2> | Africa        | <max_inflation2>  |\n",
    "    | <country3> | Oceania       | <max_inflation3>  |\n",
    "    | <country4> | Europe        | <max_inflation4>  |\n",
    "    | <country5> | South America | <max_inflation5>  |\n",
    "    | <country6> | Asia          | <max_inflation6>  |\n",
    "    +------------+---------------+-------------------+\n",
    "Again, there are multiple ways to get to this solution using only joins, but the focus here is on showing you an introduction into advanced subqueries.\n",
    "\n",
    "Instructions:\n",
    "\n",
    "* Create an INNER JOIN with countries on the left and economies on the right with USING, without aliasing your tables or columns.\n",
    "* Retrieve the country's name, continent, and inflation rate for 2015.\n",
    "\n",
    "\n",
    "* Select the maximum inflation rate in 2015 AS max_inf grouped by continent using the previous step's query as a subquery in the FROM clause.\n",
    "\n",
    "* Thus, in your subquery you should:\n",
    " * Create an inner join with countries on the left and economies on the right with USING (without aliasing your tables or columns).\n",
    " * Retrieve the country name, continent, and inflation rate for 2015.\n",
    "* Alias the subquery as subquery.\n",
    "* This will result in the six maximum inflation rates in 2015 for the six continents as one field table. Make sure to not include continent in the outer SELECT statement.\n",
    "\n",
    "\n",
    "\n",
    "* Now it's time to append your second query to your first query using AND and IN to obtain the name of the country, its continent, and the maximum inflation rate for each continent in 2015.\n",
    "* For the sake of practice, change all joining conditions to use ON instead of USING."
   ]
  },
  {
   "cell_type": "code",
   "execution_count": null,
   "id": "897ece50",
   "metadata": {},
   "outputs": [],
   "source": [
    "-- Select fields\n",
    "SELECT name, continent,inflation_rate\n",
    "  -- From countries\n",
    "  FROM countries\n",
    "  \t-- Join to economies\n",
    "  \tINNER JOIN economies\n",
    "    -- Match on code\n",
    "    USING (code)\n",
    "-- Where year is 2015\n",
    "WHERE year = 2015;"
   ]
  },
  {
   "cell_type": "code",
   "execution_count": null,
   "id": "d5aaff48",
   "metadata": {},
   "outputs": [],
   "source": [
    "-- Select the maximum inflation rate as max_inf\n",
    "SELECT MAX(inflation_rate) AS max_inf\n",
    "  -- Subquery using FROM (alias as subquery)\n",
    "  FROM (\n",
    "      SELECT name, continent, inflation_rate\n",
    "      FROM countries\n",
    "      INNER JOIN economies\n",
    "      USING (code)\n",
    "      WHERE year = 2015) AS subquery\n",
    "-- Group by continent\n",
    "GROUP BY continent;"
   ]
  },
  {
   "cell_type": "code",
   "execution_count": null,
   "id": "3224c795",
   "metadata": {},
   "outputs": [],
   "source": [
    "-- Select fields\n",
    "SELECT name, continent, inflation_rate\n",
    "  -- From countries\n",
    "  FROM countries\n",
    "\t-- Join to economies\n",
    "\tINNER JOIN economies\n",
    "\t-- Match on code\n",
    "\tON countries.code = economies.code\n",
    "  -- Where year is 2015\n",
    "  WHERE year = 2015\n",
    "    -- And inflation rate in subquery (alias as subquery)\n",
    "    AND inflation_rate IN (\n",
    "        SELECT MAX(inflation_rate) AS max_inf\n",
    "        FROM (\n",
    "             SELECT name, continent, inflation_rate\n",
    "             FROM countries\n",
    "             INNER JOIN economies\n",
    "             ON countries.code = economies.code\n",
    "             WHERE year = 2015) AS subquery\n",
    "      -- Group by continent\n",
    "        GROUP BY continent);"
   ]
  },
  {
   "cell_type": "markdown",
   "id": "28a8c152",
   "metadata": {},
   "source": [
    "### Subquery challenge\n",
    "Let's test your understanding of the subqueries with a challenge problem! Use a subquery to get 2015 economic data for countries that do not have\n",
    "\n",
    "gov_form of 'Constitutional Monarchy' or\n",
    "'Republic' in their gov_form.\n",
    "Here, gov_form stands for the form of the government for each country. Review the different entries for gov_form in the countries table.\n",
    "\n",
    "Instructions:\n",
    "\n",
    "* Select the country code, inflation rate, and unemployment rate.\n",
    "* Order by inflation rate ascending.\n",
    "* Do not use table aliasing in this exercise."
   ]
  },
  {
   "cell_type": "code",
   "execution_count": null,
   "id": "0ae23490",
   "metadata": {},
   "outputs": [],
   "source": [
    "-- Select fields\n",
    "SELECT code, inflation_rate, unemployment_rate\n",
    "  -- From economies\n",
    "  FROM economies\n",
    "  -- Where year is 2015 and code is not in\n",
    "  WHERE year = 2015 AND code NOT IN\n",
    "  \t-- Subquery\n",
    "  \t(SELECT code\n",
    "  \t FROM countries\n",
    "  \t WHERE (gov_form = 'Constitutional Monarchy' OR gov_form LIKE '%Republic'))\n",
    "-- Order by inflation rate\n",
    "ORDER BY inflation_rate;"
   ]
  },
  {
   "cell_type": "markdown",
   "id": "88fabf1c",
   "metadata": {},
   "source": [
    "### Final challenge\n",
    "Welcome to the end of the course! The next three exercises will test your knowledge of the content covered in this course and apply many of the ideas you've seen to difficult problems. Good luck!\n",
    "\n",
    "Read carefully over the instructions and solve them step-by-step, thinking about how the different clauses work together.\n",
    "\n",
    "In this exercise, you'll need to get the country names and other 2015 data in the economies table and the countries table for Central American countries with an official language.\n",
    "\n",
    "Instructions:\n",
    "\n",
    "* Select unique country names. Also select the total investment and imports fields.\n",
    "* Use a left join with countries on the left. (An inner join would also work, but please use a left join here.)\n",
    "* Match on code in the two tables AND use a subquery inside of ON to choose the appropriate languages records.\n",
    "* Order by country name ascending.\n",
    "* Use table aliasing but not field aliasing in this exercise.\n",
    "\n"
   ]
  },
  {
   "cell_type": "code",
   "execution_count": null,
   "id": "754c4b88",
   "metadata": {},
   "outputs": [],
   "source": [
    "-- Select fields\n",
    "SELECT DISTINCT name, total_investment, imports\n",
    "  -- From table (with alias)\n",
    "  FROM countries AS c\n",
    "    -- Join with table (with alias)\n",
    "    LEFT JOIN economies AS e\n",
    "      -- Match on code\n",
    "      ON (c.code = e.code\n",
    "        -- and code in Subquery\n",
    "        AND c.code IN (\n",
    "          SELECT l.code\n",
    "          FROM languages AS l\n",
    "          WHERE official = 'true'\n",
    "        ) )\n",
    "  -- Where region and year are correct\n",
    "  WHERE region = 'Central America' AND year = 2015\n",
    "-- Order by field\n",
    "ORDER BY name;"
   ]
  },
  {
   "cell_type": "markdown",
   "id": "ba5f5692",
   "metadata": {},
   "source": [
    "### Final challenge (2)\n",
    "Whoofta! That was challenging, huh?\n",
    "\n",
    "Let's ease up a bit and calculate the average fertility rate for each region in 2015.\n",
    "\n",
    "Instructions:\n",
    "\n",
    "* Include the name of region, its continent, and average fertility rate aliased as avg_fert_rate.\n",
    "* Sort based on avg_fert_rate ascending.\n",
    "* Remember that you'll need to GROUP BY all fields that aren't included in the aggregate function of SELECT."
   ]
  },
  {
   "cell_type": "code",
   "execution_count": null,
   "id": "1fdc873a",
   "metadata": {},
   "outputs": [],
   "source": [
    "-- Select fields\n",
    "SELECT region, continent, AVG(fertility_rate) AS avg_fert_rate\n",
    "  -- From left table\n",
    "  FROM countries AS c\n",
    "    -- Join to right table\n",
    "    INNER JOIN populations AS p\n",
    "      -- Match on join condition\n",
    "      ON c.code = p.country_code\n",
    "  -- Where specific records matching some condition\n",
    "  WHERE year = 2015\n",
    "-- Group appropriately\n",
    "GROUP BY region, continent\n",
    "-- Order appropriately\n",
    "ORDER BY avg_fert_rate;"
   ]
  },
  {
   "cell_type": "markdown",
   "id": "02189e65",
   "metadata": {},
   "source": [
    "### Final challenge (3)\n",
    "Welcome to the last challenge problem. By now you're a query warrior! Remember that these challenges are designed to take you to the limit to solidify your SQL knowledge! Take a deep breath and solve this step-by-step.\n",
    "\n",
    "You are now tasked with determining the top 10 capital cities in Europe and the Americas in terms of a calculated percentage using city_proper_pop and metroarea_pop in cities.\n",
    "\n",
    "Do not use table aliasing in this exercise.\n",
    "\n",
    "Instructions:\n",
    "\n",
    "* Select the city name, country code, city proper population, and metro area population.\n",
    "* Calculate the percentage of metro area population composed of city proper population for each city in cities, aliased as city_perc.\n",
    "* Focus only on capital cities in Europe and the Americas in a subquery.\n",
    "* Make sure to exclude records with missing data on metro area population.\n",
    "* Order the result by city_perc descending.\n",
    "* Then determine the top 10 capital cities in Europe and the Americas in terms of this city_perc percentage."
   ]
  },
  {
   "cell_type": "code",
   "execution_count": null,
   "id": "4ae4a58f",
   "metadata": {},
   "outputs": [],
   "source": [
    "-- Select fields\n",
    "SELECT name, country_code, city_proper_pop, metroarea_pop,\n",
    "\t  -- Calculate city_perc\n",
    "      city_proper_pop / metroarea_pop * 100 AS city_perc\n",
    "  -- From appropriate table    \n",
    "  FROM cities\n",
    "  -- Where\n",
    "  WHERE name IN\n",
    "    -- Subquery\n",
    "    (SELECT capital\n",
    "     FROM countries\n",
    "     WHERE (continent = 'Europe'\n",
    "        OR continent LIKE '%America'))\n",
    "       AND metroarea_pop IS NOT NULL\n",
    "-- Order appropriately\n",
    "ORDER BY city_perc DESC\n",
    "-- Limit amount\n",
    "LIMIT 10;"
   ]
  }
 ],
 "metadata": {
  "kernelspec": {
   "display_name": "Python 3",
   "language": "python",
   "name": "python3"
  },
  "language_info": {
   "codemirror_mode": {
    "name": "ipython",
    "version": 3
   },
   "file_extension": ".py",
   "mimetype": "text/x-python",
   "name": "python",
   "nbconvert_exporter": "python",
   "pygments_lexer": "ipython3",
   "version": "3.8.8"
  }
 },
 "nbformat": 4,
 "nbformat_minor": 5
}
